{
 "cells": [
  {
   "cell_type": "markdown",
   "metadata": {
    "id": "Lbe8fpzssoQU"
   },
   "source": [
    "<table>\n",
    "    <tr>\n",
    "        <td>\n",
    "            <h1>NLP et Espace Vectoriel</h1>\n",
    "        </td>\n",
    "    </tr>\n",
    "</table>\n",
    "\n",
    "\n",
    "<center><i>Réalisé par : </i>Douba JAFUNO </center>\n",
    "\n",
    "<table style=\"width: 100%\">\n",
    "<tr>\n",
    "    <td style=\"width: 15%\">\n",
    "    </td>\n",
    "    <td style=\"width: 70%; text-align:left\">\n",
    "        <a href=\"#1\"><h1>I. Modèle spatiaux vectoriel</h1></a><br>\n",
    "           &nbsp; <a href=\"#wbw\">I.1 Word by Word</a><br>\n",
    "           &nbsp; <a href=\"#wbd\">I.2 Word by document</a><br>\n",
    "           &nbsp; <a href=\"#de\">I.3 Distance euclidienne</a><br>     \n",
    "           &nbsp; <a href=\"#sc\">I.4 Similitude des cosinus</a><br>\n",
    "           &nbsp; <a href=\"#mvm\">I.5 Manipuler la vectorisation de mots (Word embedding) sur les capitales</a><br>\n",
    "           &ensp; <a href=\"#cd1\">I.5.1 Chargement des données</a><br>\n",
    "           &ensp; <a href=\"#tc\">I.5.2 Trouver les capitales</a><br>     \n",
    "           &nbsp; <a href=\"#acp\">I.6 ACP</a><br><br>\n",
    "           \n",
    "\n",
    "\n",
    "<a href=\"#2\"><h1>II. Traduction de mot</h1></a><br><br>\n",
    "    &nbsp; <a href=\"#tc\">II.1 Matrices de Word embedding</a><br>\n",
    "    &nbsp; <a href=\"#ec\">II.2 Autour des données de word embedding anglais et français</a><br>\n",
    "    &ensp; <a href=\"#cd2\">II.2.1 Chargement des données</a><br>\n",
    "    &ensp; <a href=\"#cmwe\">II.2.2 Chargement des matrices de word embedding</a><br>\n",
    "    &ensp; <a href=\"#gmtnf\">II.2.3 Générer la matrice de transformation avec la norme de Frobenius</a><br>\n",
    "    &ensp; <a href=\"#kt\">II.2.4 KNN et tests</a><br><br>\n",
    "\n",
    "  \n",
    "\n",
    "<a href=\"#3\"><h1>III. Matrice et Vecteur de documents (tweets)</h1></a><br><br>\n",
    "    &nbsp; <a href=\"#vd\">III.1 Vecteur de document</a><br>\n",
    "    &nbsp; <a href=\"#idt\">III.2 Importation des données de tweets</a><br>\n",
    "    &nbsp; <a href=\"#cmddt\">III.3 Construction de la matrice de document avec les données de tweets</a><br>\n",
    "    &nbsp; <a href=\"#ttsasc\">III.2.2 Trouver les tweets similaires avec la similarité cosinus</a><br><br>\n",
    "\n",
    "\n",
    "\n",
    "<a href=\"#4\"><h1>IV. Hachage sensible à la localité (HSL)</h1></a><br><br>\n",
    "    &nbsp; <a href=\"#fh\">IV.1 Fonction de Hachage</a><br>\n",
    "    &nbsp; <a href=\"#fhm\">IV.2 Fonction de Hachage multiplan</a><br>\n",
    "    &ensp; <a href=\"#lhdev\">IV.2.1 Les hyperplans dans les espaces vectoriels</a><br>\n",
    "    &ensp; <a href=\"#uhdev\">IV.2.2 Utilisation des hyperplans pour diviser l'espace vectoriel</a><br>\n",
    "    &nbsp; <a href=\"#vhpp\">IV.3 Valeur de hachage avec plusieurs plans</a><br>\n",
    "    &nbsp; <a href=\"#pa\">IV.4 Plans aléatoires</a><br>\n",
    "    &nbsp; <a href=\"#ttpsh\">IV.5 Trouver les tweets les plus similaires avec le HSL</a><br>\n",
    "    &ensp; <a href=\"#cnp\">IV.5.1 Choisir le nombre de plans</a><br>\n",
    "    &ensp; <a href=\"#ovhv\">IV.5.2 Obtenir la valeur de hachage d'un vecteur</a><br>\n",
    "    &ensp; <a href=\"#cth\">IV.5.3 Création d'une table de hachage</a><br>\n",
    "    &ensp; <a href=\"#ctth\">IV.5.4 Création de toutes les tables de hachage</a><br>\n",
    "    &ensp; <a href=\"#akuh\">IV.5.5 Avec KNN en utilisant HSL</a><br><br>\n",
    "\n",
    "<a href=\"#5\"><h1>V. Référence </h1></a><br><br>\n",
    "   </td>\n",
    "    <td style=\"width: 0%\">\n",
    "    </td>\n",
    "</tr>\n",
    "</table>\n"
   ]
  },
  {
   "cell_type": "code",
   "execution_count": 1,
   "metadata": {
    "id": "T7Tex0B3soQW"
   },
   "outputs": [],
   "source": [
    "import pickle\n",
    "import numpy as np\n",
    "import pandas as pd\n",
    "import matplotlib.pyplot as plt\n",
    "\n",
    "from utils import get_vectors"
   ]
  },
  {
   "cell_type": "code",
   "execution_count": 2,
   "metadata": {
    "id": "z8wHfqVpsoQX",
    "outputId": "dc31bc71-01ab-464d-d4a3-4eb85302ad5c"
   },
   "outputs": [
    {
     "data": {
      "text/plain": [
       "243"
      ]
     },
     "execution_count": 2,
     "metadata": {},
     "output_type": "execute_result"
    }
   ],
   "source": [
    "word_embeddings = pickle.load(open(\"word_embeddings_subset.p\", \"rb\"))\n",
    "len(word_embeddings)  # there should be 243 words that will be used in this assignment"
   ]
  },
  {
   "cell_type": "code",
   "execution_count": 3,
   "metadata": {
    "id": "l3uxh1BEsoQZ",
    "outputId": "b1a69c7c-22c6-440d-dc13-71320fa386e1"
   },
   "outputs": [
    {
     "name": "stdout",
     "output_type": "stream",
     "text": [
      "dimension: 300\n"
     ]
    }
   ],
   "source": [
    "print(\"dimension: {}\".format(word_embeddings['Spain'].shape[0]))"
   ]
  },
  {
   "cell_type": "markdown",
   "metadata": {
    "id": "5HRLJ-dHsoQa"
   },
   "source": [
    "# <a name=\"1\">I. Modèle spatiaux vectoriel</a>\n",
    "\n",
    "Les Modèle spatiaux vectoriel: \n",
    "\n",
    "$\\bullet$ Vont nous aider par rapport aux significations des phrases :\n",
    "- where are you heading? ou allez vous   et   were are you from?   d'ou venez vous, ont une signification différente\n",
    "- What are you age ? et How old are you ?   ont une meme signification\n",
    "\n",
    "$\\bullet$ Vont capturer la dépendance entre les mots \n",
    "- You eat cereal from a bowl  (cereal , bowl)\n",
    "- You buy something and someone else sells it (buy,sells)\n",
    "\n",
    "$\\bullet$ Vont trouver les similitudes des mots dans un espace vectoriel \n"
   ]
  },
  {
   "cell_type": "markdown",
   "metadata": {
    "id": "IkoizwzHsoQa"
   },
   "source": [
    "$\\bullet$ Vont trouver les similitudes des mots dans un espace vectoriel "
   ]
  },
  {
   "cell_type": "markdown",
   "metadata": {
    "id": "KpufrMUZsoQb"
   },
   "source": [
    "## <a name=\"wbw\"> Word by Word </a>"
   ]
  },
  {
   "cell_type": "markdown",
   "metadata": {
    "id": "pxFmkpSPsoQb"
   },
   "source": [
    "Pour obtenir un modele spatiaux vectoriel, On va créer une `Matrice de Coocurrence`: comment trouver les similitudes des mots dans un espaces vectoriel:  on désigne un paramètre k qui est la distance entre 2 mots dans une phrase."
   ]
  },
  {
   "cell_type": "markdown",
   "metadata": {
    "id": "IUjSlARtsoQb"
   },
   "source": [
    "I like **simple data**. (distance d'un mot, k=1)\n",
    "\n",
    "I prefer **simple** raw **data**. (distance de 2 mots, k=2)\n",
    "\n"
   ]
  },
  {
   "cell_type": "markdown",
   "metadata": {
    "id": "L44IIS_zsoQc"
   },
   "source": [
    "On fait la matrice co-occurence pour le mot data avec k = 2 pour le mot si pour 2 mots k >2 alors leur coefficient dans la matrice de co-occurence vaudra 0, ici on considère que prefer n'est pas dans notre vocabulaire, en effet cette matrice ne concernera que les mots du vocabulaire "
   ]
  },
  {
   "cell_type": "raw",
   "metadata": {
    "id": "gS1Hn3UWsoQc"
   },
   "source": [
    "     simple   raw    like   I  \n",
    "\n",
    "data   2       1      1     0    "
   ]
  },
  {
   "cell_type": "markdown",
   "metadata": {
    "id": "MJWyKHcLsoQd"
   },
   "source": [
    "## <a name=\"wbd\"> Word by document </a>"
   ]
  },
  {
   "cell_type": "markdown",
   "metadata": {
    "id": "YtSgvbrLsoQd"
   },
   "source": [
    "On utilisera une matrice de Coocurrence avec cette fois ci le nombre de fois que les mots du vocabulaire apparaissent dans des documents qui appartiennent à des catégories spécifiques "
   ]
  },
  {
   "cell_type": "markdown",
   "metadata": {
    "id": "MC5g_X5asoQd"
   },
   "source": [
    "Les coefficients représentent le nombre d'apparition d'un mot dans un document spécifique on parle de taux de similarité "
   ]
  },
  {
   "cell_type": "raw",
   "metadata": {
    "id": "bYFQ_vb3soQe"
   },
   "source": [
    "           entertainment     economy    machine learning\n",
    "\n",
    "data          500              6620           9320\n",
    "\n",
    "film          7000             4000           1000"
   ]
  },
  {
   "cell_type": "markdown",
   "metadata": {
    "id": "JJ5e0QCVsoQe"
   },
   "source": [
    "<img src=\"images/MSV1.png\" style=\"width:700px;height:400;\">\n"
   ]
  },
  {
   "cell_type": "markdown",
   "metadata": {
    "id": "-LX0r9_TsoQe"
   },
   "source": [
    "ML est plus proche de data quand entertainement est plus proche de film"
   ]
  },
  {
   "cell_type": "markdown",
   "metadata": {
    "id": "GunbZxy4soQf"
   },
   "source": [
    "## <a name=\"de\"> Distance euclidienne</a>\n",
    "\n",
    "\n",
    "\n",
    "Pour calculer la similarité entre deux vecteurs $A=(A_1,A_2,...A_n)$ et $B= (B_1,B_2....B_n)$ on utilise la distance euclidienne entre un point .\n",
    "La distance euclidienne est définie comme suit : \n",
    "\n",
    "$$\\begin{aligned} d(\\mathbf{A}, \\mathbf{B})=d(\\mathbf{B}, \\mathbf{A}) &=\\sqrt{\\left(A_{1}-B_{1}\\right)^{2}+\\left(A_{2}-B_{2}\\right)^{2}+\\cdots+\\left(A_{n}-B_{n}\\right)^{2}} \\\\ &=\\sqrt{\\sum_{i=1}^{n}\\left(A_{i}-B_{i}\\right)^{2}} \\end{aligned}$$\n",
    "\n",
    "<img src=\"images/euc_dist.png\" style=\"width:700px;height:400;\">"
   ]
  },
  {
   "cell_type": "markdown",
   "metadata": {
    "id": "bCBSMFN9soQf"
   },
   "source": [
    "Entrainement correpond au corpus A(500,7000)\n",
    "ML au corpus B(9320,100)\n",
    "alors $d(A,B)=\\sqrt{\\left(A_{1}-B_{1}\\right)^{2}+\\left(A_{2}-B_{2}\\right)^{2}}=\\sqrt{\\left(-8820\\right)^{2}+\\left(6000\\right)^{2}}\\approx 10667$"
   ]
  },
  {
   "cell_type": "raw",
   "metadata": {
    "id": "BoYh7I2osoQf"
   },
   "source": [
    "                u_t                v_t            w_t\n",
    "               \n",
    "               data             boba           Ice-Cream\n",
    "\n",
    "Ai               6               0                1\n",
    "\n",
    "drink            0               4                6\n",
    "\n",
    "Food             0               6                8"
   ]
  },
  {
   "cell_type": "markdown",
   "metadata": {
    "id": "S7-dgjpwsoQg"
   },
   "source": [
    "la distance euclidienne entre $u_t$ et $v_t$ pour data et boba est $$d(u_t, v_t)=\\sqrt{\\left(6-0\\right)^{2}+\\left(0-4\\right)^{2}+\\left(0-6\\right)^{2}}=\\sqrt{36+16+36}=\\sqrt{88}\\approx 9,4$$\n",
    "\n",
    "la distance euclidienne entre $w_t$ et $v_t$ pour boba et Ice-Cream est $$d(w_t, v_t)=\\sqrt{\\left(1-0\\right)^{2}+\\left(6-4\\right)^{2}+\\left(8-6\\right)^{2}}=\\sqrt{1+4+4}=\\sqrt{9}=3$$\n",
    "\n",
    "\n",
    "Nous avons 3<9.4 donc le vecteur $v_t$ est plus similaire au vecteur $w_t$ qu'au vecteur $u_t$, la distance euclidienne est plus petite."
   ]
  },
  {
   "cell_type": "code",
   "execution_count": 4,
   "metadata": {
    "id": "-eBdb6cPsoQg"
   },
   "outputs": [],
   "source": [
    "def euclidean(A, B):\n",
    "    \"\"\"\n",
    "    Input:\n",
    "        A: a numpy array which corresponds to a word vector\n",
    "        B: A numpy array which corresponds to a word vector\n",
    "    Output:\n",
    "        d: numerical number representing the Euclidean distance between A and B.\n",
    "    \"\"\"\n",
    "\n",
    "    # d distance euclidienne\n",
    "\n",
    "    d = np.linalg.norm(A-B)\n",
    "\n",
    "    return d\n"
   ]
  },
  {
   "cell_type": "markdown",
   "metadata": {},
   "source": [
    "Exemple"
   ]
  },
  {
   "cell_type": "code",
   "execution_count": 5,
   "metadata": {
    "id": "i5Icl7cMsoQh"
   },
   "outputs": [],
   "source": [
    "king = word_embeddings['king']\n",
    "queen = word_embeddings['queen']"
   ]
  },
  {
   "cell_type": "code",
   "execution_count": 6,
   "metadata": {
    "id": "Bl78tuJGsoQi",
    "outputId": "8fdc2350-5d5e-45dc-8254-0ea012152228"
   },
   "outputs": [
    {
     "data": {
      "text/plain": [
       "2.4796925"
      ]
     },
     "execution_count": 6,
     "metadata": {},
     "output_type": "execute_result"
    }
   ],
   "source": [
    "# Test\n",
    "euclidean(king, queen)"
   ]
  },
  {
   "cell_type": "markdown",
   "metadata": {
    "id": "czFnmnLAsoQj"
   },
   "source": [
    "## <a name=\"sdc\"> Similitude des cosinus</a>"
   ]
  },
  {
   "cell_type": "markdown",
   "metadata": {
    "id": "WAyj1FeQsoQj"
   },
   "source": [
    "La fonction de similarité du cosinus est :\n",
    "\n",
    "$$\\cos (\\theta)=\\frac{\\mathbf{A} \\cdot \\mathbf{B}}{\\|\\mathbf{A}\\|\\|\\mathbf{B}\\|}=\\frac{\\sum_{i=1}^{n} A_{i} B_{i}}{\\sqrt{\\sum_{i=1}^{n} A_{i}^{2}} \\sqrt{\\sum_{i=1}^{n} B_{i}^{2}}}\\tag{1}$$\n",
    "\n",
    "$A$ et $B$ représentent les mots en vecteur et $A_i$ ou $B_i$ représentent l'indice i de ce vecteur.\n",
    "& Notez que si A et B sont identiques, vous obtiendrez $cos(\\theta) = 1$.\n",
    "* Sinon, s'ils sont totalement opposés, c'est-à-dire, $A= -B$, alors vous obtiendrez $cos(\\theta) = -1$.\n",
    "* Si vous obtenez $cos(\\theta) =0$, cela signifie qu'ils sont orthogonaux (ou perpendiculaires).\n",
    "* Les nombres entre 0 et 1 indiquent un score de similarité.\n",
    "* Les nombres entre -1 et 0 indiquent un score de dissimilarité."
   ]
  },
  {
   "cell_type": "markdown",
   "metadata": {
    "id": "-pL46fvjsoQk"
   },
   "source": [
    "<img src=\"images/cos_sim.png\" style=\"width:700px;height:400;\">"
   ]
  },
  {
   "cell_type": "markdown",
   "metadata": {
    "id": "NCAWJI9ysoQk"
   },
   "source": [
    "ici $A=(20,40)$ et $B=(30,20)$\n",
    "$$\\cos (\\theta)=\\frac{\\mathbf{A} \\cdot \\mathbf{B}}{\\|\\mathbf{A}\\|\\|\\mathbf{B}\\|}=\\frac{(20x30) + (40x20)}{\\sqrt{\\left(20\\right)^{2}+\\left(40\\right)^{2}}\\sqrt{\\left(30\\right)^{2}+\\left(20\\right)^{2}}}=0.87$$"
   ]
  },
  {
   "cell_type": "code",
   "execution_count": 7,
   "metadata": {
    "id": "2wudZvAhsoQl"
   },
   "outputs": [],
   "source": [
    "def cosine_similarity(A, B):\n",
    "    '''\n",
    "    Entrée :\n",
    "        A : un tableau numérique qui correspond à un vecteur de mots\n",
    "        B : Un tableau numérique qui correspond à un vecteur de mots\n",
    "    Sortie :\n",
    "        cos : nombre numérique représentant la similitude en cosinus entre A et B.\n",
    "    '''\n",
    "    # you have to set this variable to the true label.\n",
    "    \n",
    "    dot = np.dot(A, B)\n",
    "    norma = np.linalg.norm(A)\n",
    "    normb = np.linalg.norm(B)\n",
    "    cos = dot / (norma * normb)\n",
    "\n",
    "    return cos"
   ]
  },
  {
   "cell_type": "code",
   "execution_count": 8,
   "metadata": {
    "id": "cN0Ng0GjsoQm",
    "outputId": "4755a8cf-855d-43a6-fba3-3106b8bd11ca"
   },
   "outputs": [
    {
     "data": {
      "text/plain": [
       "0.6510956"
      ]
     },
     "execution_count": 8,
     "metadata": {},
     "output_type": "execute_result"
    }
   ],
   "source": [
    "cosine_similarity(king, queen)"
   ]
  },
  {
   "cell_type": "markdown",
   "metadata": {
    "id": "hT0YLLeKsoQn"
   },
   "source": [
    "## <a name=\"mvm\"> Manipuler la vectorisation de mots (Word embedding) sur les capitales </a>"
   ]
  },
  {
   "cell_type": "markdown",
   "metadata": {
    "id": "9DjG_8GzsoQn"
   },
   "source": [
    "Associer une capitale à son pays, à chaque nom de capitale et pays on associe un **embedding**( une vectorisation si vous voulez bien)"
   ]
  },
  {
   "cell_type": "markdown",
   "metadata": {
    "id": "TyZlqWcPsoQn"
   },
   "source": [
    "USA(5,6)         Washington(10,5)\n",
    "\n",
    "Russia(5,5)         Moscow(9,3)\n",
    "\n",
    "Japan(4,5)          Tokyo(8.5,2)\n",
    "\n",
    "Turkey(3,1)        Ankara(8.5,0.9)"
   ]
  },
  {
   "cell_type": "markdown",
   "metadata": {
    "id": "pjzt7jsNsoQn"
   },
   "source": [
    "On veut montrer que Washington est à USA ce que Moscow est à Russia\n",
    "On a Washington - USA = [5,-1]  et Russia + [5,-1] = [10,4]  en regardant notre colonne sauf Washington on remarque que la capitale dont les coordonnées sont plus proche de [10,4] par distance euclidienne est Moscow=[9,3]"
   ]
  },
  {
   "cell_type": "markdown",
   "metadata": {
    "id": "INBsAq7nsoQo"
   },
   "source": [
    "Pour Ankara=[9,1] qu'elle est le pays P le plus similaire ? "
   ]
  },
  {
   "cell_type": "markdown",
   "metadata": {
    "id": "IrS-mc4UsoQo"
   },
   "source": [
    "On a Washington - USA = Ankara - P donc Ankara = P+ Washington-USA =P+[5,-1]"
   ]
  },
  {
   "cell_type": "markdown",
   "metadata": {
    "id": "t28pwVbssoQo"
   },
   "source": [
    "On reprend la colonne des pays en ajoutant [5,-1]"
   ]
  },
  {
   "cell_type": "markdown",
   "metadata": {
    "id": "YOgwl9lgsoQp"
   },
   "source": [
    "USA(10,5)        \n",
    "\n",
    "Russia(10,4)        \n",
    "\n",
    "Japan(9,4)      \n",
    "\n",
    "Turkey(8,0) "
   ]
  },
  {
   "cell_type": "markdown",
   "metadata": {
    "id": "olfkA4U2soQp"
   },
   "source": [
    "On remarque que la plus petite distance euclidienne d'Ankara=[9,1] est celle avec **Turkey**=[8,0] on a $d=\\sqrt{2}$"
   ]
  },
  {
   "cell_type": "markdown",
   "metadata": {
    "id": "ZYxIiVDaoUiQ"
   },
   "source": [
    "### <a name=\"cd1\"> Chargement des données</a>"
   ]
  },
  {
   "cell_type": "markdown",
   "metadata": {
    "id": "05Xggu3_soQp"
   },
   "source": [
    "On considère des données ville capitale :"
   ]
  },
  {
   "cell_type": "code",
   "execution_count": 9,
   "metadata": {
    "id": "JHrOySLusoQp",
    "outputId": "0e384f11-2bd6-49ec-e4e3-aa348f5e4681"
   },
   "outputs": [
    {
     "data": {
      "text/html": [
       "<div>\n",
       "<style scoped>\n",
       "    .dataframe tbody tr th:only-of-type {\n",
       "        vertical-align: middle;\n",
       "    }\n",
       "\n",
       "    .dataframe tbody tr th {\n",
       "        vertical-align: top;\n",
       "    }\n",
       "\n",
       "    .dataframe thead th {\n",
       "        text-align: right;\n",
       "    }\n",
       "</style>\n",
       "<table border=\"1\" class=\"dataframe\">\n",
       "  <thead>\n",
       "    <tr style=\"text-align: right;\">\n",
       "      <th></th>\n",
       "      <th>city1</th>\n",
       "      <th>country1</th>\n",
       "      <th>city2</th>\n",
       "      <th>country2</th>\n",
       "    </tr>\n",
       "  </thead>\n",
       "  <tbody>\n",
       "    <tr>\n",
       "      <th>0</th>\n",
       "      <td>Athens</td>\n",
       "      <td>Greece</td>\n",
       "      <td>Bangkok</td>\n",
       "      <td>Thailand</td>\n",
       "    </tr>\n",
       "    <tr>\n",
       "      <th>1</th>\n",
       "      <td>Athens</td>\n",
       "      <td>Greece</td>\n",
       "      <td>Beijing</td>\n",
       "      <td>China</td>\n",
       "    </tr>\n",
       "    <tr>\n",
       "      <th>2</th>\n",
       "      <td>Athens</td>\n",
       "      <td>Greece</td>\n",
       "      <td>Berlin</td>\n",
       "      <td>Germany</td>\n",
       "    </tr>\n",
       "    <tr>\n",
       "      <th>3</th>\n",
       "      <td>Athens</td>\n",
       "      <td>Greece</td>\n",
       "      <td>Bern</td>\n",
       "      <td>Switzerland</td>\n",
       "    </tr>\n",
       "    <tr>\n",
       "      <th>4</th>\n",
       "      <td>Athens</td>\n",
       "      <td>Greece</td>\n",
       "      <td>Cairo</td>\n",
       "      <td>Egypt</td>\n",
       "    </tr>\n",
       "  </tbody>\n",
       "</table>\n",
       "</div>"
      ],
      "text/plain": [
       "    city1 country1    city2     country2\n",
       "0  Athens   Greece  Bangkok     Thailand\n",
       "1  Athens   Greece  Beijing        China\n",
       "2  Athens   Greece   Berlin      Germany\n",
       "3  Athens   Greece     Bern  Switzerland\n",
       "4  Athens   Greece    Cairo        Egypt"
      ]
     },
     "execution_count": 9,
     "metadata": {},
     "output_type": "execute_result"
    }
   ],
   "source": [
    "data = pd.read_csv('capitals.txt', delimiter=' ')\n",
    "data.columns = ['city1', 'country1', 'city2', 'country2']\n",
    "\n",
    "# 5 premieres lignes\n",
    "data.head(5)"
   ]
  },
  {
   "cell_type": "markdown",
   "metadata": {
    "id": "FWOjd33WtJyU"
   },
   "source": [
    "### <a name=\"tc\"> Trouver les capitales</a>"
   ]
  },
  {
   "cell_type": "markdown",
   "metadata": {
    "id": "-s5LALSLsoQp"
   },
   "source": [
    "Maintenant, nous allons utiliser les fonctions précédentes pour calculer les similitudes entre les vecteurs,\n",
    "et les utiliser pour trouver les capitales des pays. On va implémenter  une fonction `get_country` qui\n",
    "prend trois mots, et le dictionnaire des embeddings. Notre tâche consiste à trouver le\n",
    "les capitales. Par exemple, en donnant les mots suivants : \n",
    "\n",
    "- 1 : Athènes 2 : Grèce 3 : Bagdad,\n",
    "\n",
    "notre tâche consiste à prévoir le pays 4 : l'Irak.\n",
    "\n",
    "**Voici ce que nous ferons** : \n",
    "\n",
    "1. Pour prédire la capitale, nous pouvons nous inspirer de l'exemple *Roi - Homme + Femme = Reine* ci-dessus, et implémenter ce schéma dans une fonction mathématique, en utilisant les words ebedding et une fonction de similarité.\n",
    "\n",
    "2. Itérons le dictionnaire des embeddings et calculons le score de similarité du cosinus entre notre vecteur et l'embedding actuelle du mot.\n",
    "\n",
    "3. Nous devons ajouter une vérification pour nous assurer que le mot à retournez n'est pas l'un des mots que nous avons introduits dans notre fonction. Renvoyons celui qui a obtenu le score le plus élevé."
   ]
  },
  {
   "cell_type": "code",
   "execution_count": 10,
   "metadata": {
    "id": "aVLZr8Q2soQq"
   },
   "outputs": [],
   "source": [
    "def get_country(city1, country1, city2, embeddings):\n",
    "    \"\"\"\n",
    "    Entrée :\n",
    "        city1 : une chaîne (la capitale du pays1)\n",
    "        pays1 : une chaîne (le pays de la capitale1)\n",
    "        city2 : une chaîne (la capitale du pays2)\n",
    "        embeddings : un dictionnaire où les clés sont des mots et les valeurs leurs embeddings\n",
    "    Sortie :\n",
    "        pays : un dictionnaire avec le pays le plus probable et son score de similarité\n",
    "    \"\"\"\n",
    "\n",
    "    # stocker la ville 1, le pays 1 et la ville 2 dans un ensemble appelé groupe\n",
    "    group = set((city1, country1, city2))\n",
    "\n",
    "    # Obtenir l'embedding de la ville 1\n",
    "    city1_emb = word_embeddings[city1]\n",
    "\n",
    "    # obtenir l'embedding  du pays 1\n",
    "    country1_emb = word_embeddings[country1]\n",
    "\n",
    "    # obtenir l'embedding  de la ville 2\n",
    "    city2_emb = word_embeddings[city2]\n",
    "\n",
    "    # obtenir l'embedding du pays 2 (c'est une combinaison de l'embedding du pays 1, de la ville 1 et de la ville 2)\n",
    "    # Souvenez-vous : Roi - Homme + Femme = Reine\n",
    "    vec = country1_emb - city1_emb + city2_emb\n",
    "\n",
    "    # Initialisez la similarité à -1 (elle sera remplacée par une similarité plus proche de +1)\n",
    "    similarity = -1\n",
    "\n",
    "    # initialiser le pays à une chaîne vide\n",
    "    country = ''\n",
    "\n",
    "    # boucle sur tous les mots du dictionnaire des embeddings\n",
    "    for word in embeddings.keys():\n",
    "\n",
    "        # vérifiez d'abord que le mot n'est pas déjà dans le \"groupe\".\n",
    "        if word not in group:\n",
    "\n",
    "            # obtenir l'embedding du mot\n",
    "            word_emb = word_embeddings[word]\n",
    "\n",
    "            # calculer la similarité en cosinus entre l'embedding du pays 2 et le mot dans le dictionnaire des embeddings\n",
    "            cur_similarity = cosine_similarity(vec,word_emb)\n",
    "\n",
    "            # si la similarité du cosinus est plus similaire que la meilleure similarité précédente...\n",
    "            if cur_similarity > similarity:\n",
    "\n",
    "                # mettre à jour la similarité avec la nouvelle meilleure similarité\n",
    "                similarity = cur_similarity\n",
    "\n",
    "                # enregistrer le pays comme un tuple, qui contient le mot et la similarité\n",
    "                country = (word, similarity)\n",
    "\n",
    "    return country"
   ]
  },
  {
   "cell_type": "code",
   "execution_count": 11,
   "metadata": {
    "id": "kDFQyTl5soQq",
    "outputId": "8d8c4a0d-8186-4de5-d458-d64e32b72f55"
   },
   "outputs": [
    {
     "data": {
      "text/plain": [
       "('Egypt', 0.7626821)"
      ]
     },
     "execution_count": 11,
     "metadata": {},
     "output_type": "execute_result"
    }
   ],
   "source": [
    "# En testant notre fonction, notons que pour la rendre plus robuste, nous pouvons renvoyer les 5 mots les plus similaires.\n",
    "get_country('Athens', 'Greece', 'Cairo', word_embeddings)"
   ]
  },
  {
   "cell_type": "markdown",
   "metadata": {
    "id": "c2aakfLusoQq"
   },
   "source": [
    "Athènes est à Grèce ce que Caire est à Egypte"
   ]
  },
  {
   "cell_type": "markdown",
   "metadata": {},
   "source": [
    "Implémentons `get_accuracy` pour obtenir un score de de prédiction."
   ]
  },
  {
   "cell_type": "code",
   "execution_count": 12,
   "metadata": {
    "id": "Hucb36HRsoQr"
   },
   "outputs": [],
   "source": [
    "def get_accuracy(word_embeddings, data):\n",
    "    '''\n",
    "    Entrée :\n",
    "        word_embeddings : un dictionnaire dont la clé est un mot et la valeur est son embedding\n",
    "        data : une base de données contenant toutes les paires de pays et de capitales\n",
    "    \n",
    "    Sortie :\n",
    "        accuracy : la précision du modèle\n",
    "    '''\n",
    "\n",
    "    \n",
    "    # initialise num correct à zero\n",
    "    num_correct = 0\n",
    "\n",
    "    # boucler sur les lignes de data\n",
    "    for i, row in data.iterrows():\n",
    "\n",
    "        # récupérer city1\n",
    "        city1 = row['city1']\n",
    "\n",
    "       \n",
    "        country1 = row['country1']\n",
    "\n",
    "        \n",
    "        city2 =  row['city2']\n",
    "\n",
    "        \n",
    "        country2 = row['country2']\n",
    "\n",
    "        # utiliser get_country pour trouver le pays country2\n",
    "        predicted_country2, _ = get_country(city1,country1,city2,word_embeddings)\n",
    "\n",
    "        # si le pays country2 prédit est le même que le pays réel country2...\n",
    "        if predicted_country2 == country2:\n",
    "            # augmenter le nombre de correctes de 1\n",
    "            num_correct += 1\n",
    "\n",
    "    # nombre de ligne de data\n",
    "    m = len(data)\n",
    "\n",
    "    # calculer la précision en divisant le nombre correct par m\n",
    "    accuracy = num_correct/m\n",
    "\n",
    "    return accuracy\n"
   ]
  },
  {
   "cell_type": "code",
   "execution_count": 13,
   "metadata": {
    "id": "mhdJ5B3GsoQr",
    "outputId": "6b3a874b-c4a9-4d0f-bafd-6b3503842ae3"
   },
   "outputs": [
    {
     "name": "stdout",
     "output_type": "stream",
     "text": [
      "La précision est de 0.92\n"
     ]
    }
   ],
   "source": [
    "accuracy = get_accuracy(word_embeddings, data)\n",
    "print(f\"La précision est de {accuracy:.2f}\")"
   ]
  },
  {
   "cell_type": "markdown",
   "metadata": {
    "id": "6aH-BbWbsoQr"
   },
   "source": [
    "## <a name=\"acp\"> ACP</a>"
   ]
  },
  {
   "cell_type": "markdown",
   "metadata": {
    "id": "Ptxc2SJysoQs"
   },
   "source": [
    "Analyse des composantes principale PCA en anglais \n",
    " Il s'agit d'éffectuer une réduction de la dimentionnalité d de nos features "
   ]
  },
  {
   "cell_type": "markdown",
   "metadata": {
    "id": "KxwEKqDtsoQs"
   },
   "source": [
    "<img src=\"images/acp.png\" style=\"width:700px;height:400;\">\n"
   ]
  },
  {
   "cell_type": "markdown",
   "metadata": {
    "id": "JBsjA9jlsoQs"
   },
   "source": [
    "- On a une représentation de nos données dans un espace vectoriel d'origine d > 2 \n",
    "- Des features non-corrélé pour nos données\n",
    "- On fait une projections des données dans un espace unidimensionnelles(qui conservent le plus d'indormation possible) SVD \n",
    "- Les vecteurs propres indications sur les features non corrélé de la matrice de covariance de nos donnés\n",
    "- Le vecteur propre les variances de nos ensembles de donné quantité d'information retenu par chaque features"
   ]
  },
  {
   "cell_type": "markdown",
   "metadata": {
    "id": "6tlz1sXnsoQs"
   },
   "source": [
    "Nous allons donc maintenant explorer la distance entre les vecteurs de mots après avoir réduit leur dimension.\n",
    "La technique que nous utiliserons est connue sous le nom de\n",
    "[*analyse en composantes principales* (ACP)](https://en.wikipedia.org/wiki/Principal_component_analysis).\n",
    "Comme nous l'avons vu, nous travaillons dans un espace à 300 dimensions dans ce cas.\n",
    "Bien que d'un point de vue informatique, nous ayons pu faire un bon travail,\n",
    "il est impossible de visualiser les résultats dans des espaces de dimensions aussi élevées.\n",
    "\n",
    "Vous pouvez considérer l'ACP comme une méthode qui projette nos vecteurs dans un espace réduit tout en conservant le maximum d'informations sur les vecteurs originaux dans\n",
    "leurs homologues réduits. Dans ce cas, par *information maximale*, nous entendons que le\n",
    "La distance euclidienne entre les vecteurs originaux et leurs frères et sœurs projetés est de\n",
    "minimal. D'où des vecteurs qui étaient à l'origine proches dans le dictionnaire des encastrements,\n",
    "produira des vecteurs de dimensions inférieures qui sont encore proches les uns des autres.\n",
    "\n",
    "Nous constaterons que lorsque nous tracons la carte des mots, les mots similaires seront regroupés\n",
    "l'un à côté de l'autre. Par exemple, les mots \"triste\", \"heureux\", \"joyeux\" décrivent tous une émotion\n",
    "et sont censés être proches l'un de l'autre lorsqu'ils sont complotés.\n",
    "Les mots : \"gaz\" et \"pétrole\" décrivent tout les deux des ressources naturelles.\n",
    "Des mots comme \"ville\" et \"village\" peuvent être considérés comme des synonymes et décrivent une\n",
    "chose similaire.\n",
    "\n",
    "Avant de tracer les mots, nous devpns d'abord être en mesure de réduire chaque vecteur de mot\n",
    "avec l'ACP en 2 dimensions et le tracer ensuite. Les étapes de calcul de l'ACP sont les suivantes :"
   ]
  },
  {
   "cell_type": "markdown",
   "metadata": {
    "id": "nq8dZO6-soQt"
   },
   "source": [
    "**Instructions** : \n",
    "\n",
    "Nous allons écrire un programme qui prend en compte un ensemble de données où chaque ligne correspond à un vecteur de mots. \n",
    "* Les mots en vecteurs sont de dimension 300. \n",
    "* Utilisez PCA pour changer les 300 dimensions en `n_components` dimensions. \n",
    "* La nouvelle matrice doit être de dimension `m, n_componentns`. \n",
    "\n",
    "* D'abord \"dé-moyenner\" les données\n",
    "* Obtenez les valeurs propres en utilisant \"linalg.eigh\".  Utilisez `eigh` plutôt que `eig` puisque R est symétrique.  Le gain de performance en utilisant \"8\" au lieu de \"8\" est substantiel.\n",
    "* Trier les vecteurs propres et les valeurs propres par ordre décroissant des valeurs propres.\n",
    "* Obtenez un sous-ensemble des vecteurs propres (choisissez combien de composantes principales vous voulez utiliser en utilisant `n_components`).\n",
    "* Retournez la nouvelle transformation des données en multipliant les vecteurs propres par les données d'origine."
   ]
  },
  {
   "cell_type": "markdown",
   "metadata": {
    "id": "nxjj7WwXsoQt"
   },
   "source": [
    "Pour résumer, le cadre général du calcul de l'ACP est le suivant :\n",
    "\n",
    "- Standardiser les données.\n",
    "- Obtenir les vecteurs propres et les valeurs propres à partir de la matrice de covariance (techniquement la matrice de corrélation après avoir effectué la normalisation).\n",
    "- Trier les valeurs propres par ordre décroissant et choisir les $k$ vecteurs propres qui correspondent aux $k$ valeurs propres les plus importantes , où $k$ est le nombre de dimensions du sous-espace de la nouvelle caractéristique.\n",
    "- Projection sur l'espace du nouvel élément. Au cours de cette étape, nous prendrons les $k$ vecteurs propres les plus importants et les utiliserons pour transformer l'ensemble de données original $X$ afin d'obtenir un sous-espace de caractéristiques à k dimensions $X'$."
   ]
  },
  {
   "cell_type": "code",
   "execution_count": 14,
   "metadata": {
    "id": "Fa8xU9C1soQt"
   },
   "outputs": [],
   "source": [
    "def compute_pca(X, n_components=2) :\n",
    "    \"\"\"\n",
    "    Entrée :\n",
    "        X : de dimension (m,n) où chaque ligne correspond à un vecteur de mots\n",
    "        n_components : Nombre de composants que vous souhaitez conserver.\n",
    "    Sortie :\n",
    "        X_reduced : données transformées en 2 dims/colonnes + données originales régénérées\n",
    "    \"\"\"\n",
    "\n",
    "    # centrer les données en moyenne\n",
    "    X_demeaned = X - np.mean(X,axis=0)\n",
    "\n",
    "    # calculer la matrice de covariance\n",
    "    covariance_matrix = np.cov(X_demeaned, rowvar=False)\n",
    "\n",
    "    # calculer les vecteurs propres et les valeurs propres de la matrice de covariance\n",
    "    eigen_vals, eigen_vecs = np.linalg.eigh(covariance_matrix, UPLO='L')\n",
    "\n",
    "    # trier la valeur propre dans l'ordre croissant (obtenir les indices du tri)\n",
    "    idx_sorted = np.argsort(eigen_vals)\n",
    "    \n",
    "    # inverser l'ordre pour qu'il soit du plus haut au plus bas.\n",
    "    idx_sorted_decreasing = idx_sorted[::-1]\n",
    "\n",
    "    # trier les valeurs propres par idx_sorted_decreasing\n",
    "    eigen_vals_sorted = eigen_vals[idx_sorted_decreasing]\n",
    "\n",
    "    # trier les vecteurs propres en utilisant les indices décroissants idx_sorted_decreasing\n",
    "    eigen_vecs_sorted = eigen_vecs[:,idx_sorted_decreasing]\n",
    "\n",
    "    # sélectionner les n premiers vecteurs propres (n est la dimension souhaitée\n",
    "    # de tableau de données rééchelonnées, ou dims_rescaled_data)\n",
    "    eigen_vecs_subset = eigen_vecs_sorted[:,0:n_components]\n",
    "\n",
    "    # transformer les données en multipliant la transposée des vecteurs propres \n",
    "    # avec la transposition des données dé-moyennées\n",
    "    # ensuite prenez la transposition de ce produit.\n",
    "    X_reduced = np.dot(eigen_vecs_subset.transpose(),X_demeaned.transpose()).transpose()\n",
    "\n",
    "    return X_reduced\n"
   ]
  },
  {
   "cell_type": "code",
   "execution_count": 15,
   "metadata": {
    "id": "3kUnRtLWsoQt",
    "outputId": "0d24bd6d-a296-46c7-844a-2d29d700dbe8"
   },
   "outputs": [
    {
     "name": "stdout",
     "output_type": "stream",
     "text": [
      "Your original matrix was (3, 10) and it became:\n",
      "[[ 0.43437323  0.49820384]\n",
      " [ 0.42077249 -0.50351448]\n",
      " [-0.85514571  0.00531064]]\n"
     ]
    }
   ],
   "source": [
    "# Testons notre fonction\n",
    "np.random.seed(1)\n",
    "X = np.random.rand(3, 10)\n",
    "X_reduced = compute_pca(X, n_components=2)\n",
    "print(\"Your original matrix was \" + str(X.shape) + \" and it became:\")\n",
    "print(X_reduced)"
   ]
  },
  {
   "cell_type": "code",
   "execution_count": 16,
   "metadata": {
    "id": "zCPc6WhisoQu",
    "outputId": "3fe50157-b5e5-4783-ef33-c1b16ff79ca6"
   },
   "outputs": [
    {
     "name": "stdout",
     "output_type": "stream",
     "text": [
      "Nous avons 11 mots de  dimensions 300 chacun, donc X.shape est: (11, 300)\n"
     ]
    }
   ],
   "source": [
    "words = ['oil', 'gas', 'happy', 'sad', 'city', 'town',\n",
    "         'village', 'country', 'continent', 'petroleum', 'joyful']\n",
    "\n",
    "# à partir d'une liste de mots et des word embeddings, il retourne une matrice avec tous les embeddings\n",
    "X = get_vectors(word_embeddings, words)\n",
    "\n",
    "print('Nous avons 11 mots de  dimensions 300 chacun, donc X.shape est:', X.shape)"
   ]
  },
  {
   "cell_type": "code",
   "execution_count": 17,
   "metadata": {
    "id": "lXFEvEAmsoQu",
    "outputId": "c62dfcc3-3348-463f-a776-4cdfc4274426"
   },
   "outputs": [
    {
     "data": {
      "image/png": "[encoded data removed]",
      "text/plain": [
       "<Figure size 432x288 with 1 Axes>"
      ]
     },
     "metadata": {
      "needs_background": "light"
     },
     "output_type": "display_data"
    }
   ],
   "source": [
    "# visualisation en 2d\n",
    "result = compute_pca(X, 2)\n",
    "plt.scatter(result[:, 0], result[:, 1])\n",
    "for i, word in enumerate(words):\n",
    "    plt.annotate(word, xy=(result[i, 0] - 0.05, result[i, 1] + 0.1))\n",
    "\n",
    "plt.show()"
   ]
  },
  {
   "cell_type": "markdown",
   "metadata": {
    "id": "DfcjVP3OsoQu"
   },
   "source": [
    "# <a name=\"2\">II.Traduction de mot "
   ]
  },
  {
   "cell_type": "markdown",
   "metadata": {
    "id": "iv0yb9ABsoQv"
   },
   "source": [
    "## <a name=\"mwe\"> Matrices de Word embedding</a>"
   ]
  },
  {
   "cell_type": "markdown",
   "metadata": {
    "id": "7ZVnHuFCsoQv"
   },
   "source": [
    "On pourrait prendre un mot en anglais et lui associé sa traduction en francais: \n",
    "    Si nous avons cat = [1,1] on parle **d'un word embedding** dans l'espace vectoriel des mots en anglais et que nous avons chat=[2,-2] dans l'espace vectoriel des mots en francais, comment faire le passage de [1,0,1] à [2,3,2]? \n",
    "   - On peut utiliser une matrice de transformation de vecteur que l'on nomme R \n",
    "   - On a $XR\\approx Y$ ou X est une matrice représentant un sous ensemble du Vocabulaire dont les lignes représentent un **embedding**( vecteur associé à un mot) en Anglais et Francais pour Y \n",
    "   - les lignes de X et Y coincident mot en anglais dans X et son mot en francais dans Y \n"
   ]
  },
  {
   "cell_type": "code",
   "execution_count": 18,
   "metadata": {
    "id": "A0rYuTQBsoQv"
   },
   "outputs": [],
   "source": [
    "import numpy as np                     \n",
    "import matplotlib.pyplot as plt        "
   ]
  },
  {
   "cell_type": "code",
   "execution_count": 19,
   "metadata": {
    "id": "B8ENWq9PsoQv"
   },
   "outputs": [],
   "source": [
    "# fonction qui nous permettra de tracer nos vecteurs \n",
    "def plot_vectors(vectors, colors=['k', 'b', 'r', 'm', 'c'], axes=None, fname='image.svg', ax=None):\n",
    "    scale = 1\n",
    "    scale_units = 'x'\n",
    "    x_dir = []\n",
    "    y_dir = []\n",
    "    \n",
    "    for i, vec in enumerate(vectors):\n",
    "        x_dir.append(vec[0][0])\n",
    "        y_dir.append(vec[0][1])\n",
    "    \n",
    "    if ax == None:\n",
    "        fig, ax2 = plt.subplots()\n",
    "    else:\n",
    "        ax2 = ax\n",
    "      \n",
    "    if axes == None:\n",
    "        x_axis = 2 + np.max(np.abs(x_dir))\n",
    "        y_axis = 2 + np.max(np.abs(y_dir))\n",
    "    else:\n",
    "        x_axis = axes[0]\n",
    "        y_axis = axes[1]\n",
    "        \n",
    "    ax2.axis([-x_axis, x_axis, -y_axis, y_axis])\n",
    "        \n",
    "    for i, vec in enumerate(vectors):\n",
    "        ax2.arrow(0, 0, vec[0][0], vec[0][1], head_width=0.05 * x_axis, head_length=0.05 * y_axis, fc=colors[i], ec=colors[i])\n",
    "    \n",
    "    if ax == None:\n",
    "        plt.show()\n",
    "        fig.savefig(fname)\n"
   ]
  },
  {
   "cell_type": "markdown",
   "metadata": {
    "id": "ctYlm3Q5soQw"
   },
   "source": [
    "dans notre exemple avec cat et chat on a:\n",
    "\n",
    "$$R = \\begin{bmatrix} 2 & 0 \\\\ 0 & -2 \\end{bmatrix}$$\n",
    "\n",
    "Utilisons Numpy pour vérifier que $XR=Y$ on utilisera np.dot"
   ]
  },
  {
   "cell_type": "code",
   "execution_count": 20,
   "metadata": {
    "id": "qoAotMzisoQw"
   },
   "outputs": [],
   "source": [
    "R = np.array([[2, 0],\n",
    "              [0, -2]])"
   ]
  },
  {
   "cell_type": "code",
   "execution_count": 21,
   "metadata": {
    "id": "KMNC8eJysoQw"
   },
   "outputs": [],
   "source": [
    "x = np.array([[1, 1]]) "
   ]
  },
  {
   "cell_type": "code",
   "execution_count": 22,
   "metadata": {
    "id": "FbbOJH6MsoQw",
    "outputId": "fa91a566-cc51-4290-c5a9-52c5e9807224"
   },
   "outputs": [
    {
     "data": {
      "text/plain": [
       "array([[ 2, -2]])"
      ]
     },
     "execution_count": 22,
     "metadata": {},
     "output_type": "execute_result"
    }
   ],
   "source": [
    "y = np.dot(x, R) \n",
    "y"
   ]
  },
  {
   "cell_type": "markdown",
   "metadata": {
    "id": "6GhxtawwsoQx"
   },
   "source": [
    "On a y "
   ]
  },
  {
   "cell_type": "markdown",
   "metadata": {
    "id": "fNEln4sRsoQx"
   },
   "source": [
    "Affichage de X"
   ]
  },
  {
   "cell_type": "code",
   "execution_count": 23,
   "metadata": {
    "id": "Wwj4CdMesoQx",
    "outputId": "848b320e-8419-4c38-a2f0-b6fadcc3cd18"
   },
   "outputs": [
    {
     "data": {
      "image/png": "[encoded data removed]",
      "text/plain": [
       "<Figure size 432x288 with 1 Axes>"
      ]
     },
     "metadata": {
      "needs_background": "light"
     },
     "output_type": "display_data"
    }
   ],
   "source": [
    "plot_vectors([x], axes=[4, 4], fname='transform_x.svg')"
   ]
  },
  {
   "cell_type": "code",
   "execution_count": 24,
   "metadata": {
    "id": "CO1_JxDesoQy",
    "outputId": "8e3cf748-dc93-42ca-b422-35d0f926cef7"
   },
   "outputs": [
    {
     "data": {
      "image/png": "[encoded data removed]",
      "text/plain": [
       "<Figure size 432x288 with 1 Axes>"
      ]
     },
     "metadata": {
      "needs_background": "light"
     },
     "output_type": "display_data"
    }
   ],
   "source": [
    "plot_vectors([x, y], axes=[4, 4], fname='transformx_and_y.svg')"
   ]
  },
  {
   "cell_type": "markdown",
   "metadata": {
    "id": "MkOz53aqsoQy"
   },
   "source": [
    "## <a name=\"adweaf\"> Autour des données de word embedding anglais et français</a>\n",
    "le but de cette partie est de rédiger un programme qui traduit l'anglais en français.\n",
    "\n",
    "\n"
   ]
  },
  {
   "cell_type": "markdown",
   "metadata": {
    "id": "UEH3VmIgxmVq"
   },
   "source": [
    "### <a name=\"cd2\"> Chargement des données</a>\n",
    "\n",
    "L'ensemble complet des données pour les vectorisations anglaises est d'environ 3,64 gigaoctets, et les données françaises\n",
    "elle est d'environ 629 mégaoctets. On extrait un sous-ensemble des word embedding."
   ]
  },
  {
   "cell_type": "markdown",
   "metadata": {
    "id": "DSVNtqfgsoQy"
   },
   "source": [
    "<a name=\"dicti\"></a>\n",
    "**Chargeons deux dictionnaires qui font correspondre les mots anglais et français**\n",
    "* Un dictionnaire de train\n",
    "* et un dictionnaire de test."
   ]
  },
  {
   "cell_type": "code",
   "execution_count": 25,
   "metadata": {
    "id": "RwfIurt5soQz"
   },
   "outputs": [],
   "source": [
    "en_embeddings_subset = pickle.load(open(\"en_embeddings.p\", \"rb\"))\n",
    "fr_embeddings_subset = pickle.load(open(\"fr_embeddings.p\", \"rb\"))"
   ]
  },
  {
   "cell_type": "code",
   "execution_count": 26,
   "metadata": {
    "id": "VEELORubsoQz"
   },
   "outputs": [],
   "source": [
    "def get_dict(file_name):\n",
    "    \"\"\"\n",
    "    Cette fonction renvoie le dictionnaire anglais-français dans un fichier où chaque colonne correspond à un mot.\n",
    "    \"\"\"\n",
    "    my_file = pd.read_csv(file_name, delimiter=' ')\n",
    "    etof = {}  # the english to french dictionary to be returned\n",
    "    for i in range(len(my_file)):\n",
    "        # indexing into the rows.\n",
    "        en = my_file.loc[i][0]\n",
    "        fr = my_file.loc[i][1]\n",
    "        etof[en] = fr\n",
    "\n",
    "    return etof"
   ]
  },
  {
   "cell_type": "code",
   "execution_count": 27,
   "metadata": {
    "id": "-4G01dhIsoQz",
    "outputId": "fbf305bb-8a81-4c89-af5a-784b026875ba"
   },
   "outputs": [
    {
     "name": "stdout",
     "output_type": "stream",
     "text": [
      "La longueur du dictionnaire de train anglais-français est de 5000\n",
      "La longueur du dictionnaire de test anglais-français est de 5000\n"
     ]
    }
   ],
   "source": [
    "# chargement des dictionnaires anglais-français\n",
    "en_fr_train = get_dict('en-fr.train.txt')\n",
    "print('La longueur du dictionnaire de train anglais-français est de', len(en_fr_train))\n",
    "en_fr_test = get_dict('en-fr.test.txt')\n",
    "print('La longueur du dictionnaire de test anglais-français est de', len(en_fr_train))"
   ]
  },
  {
   "cell_type": "markdown",
   "metadata": {
    "id": "-fl8PIvUsoQ0"
   },
   "source": [
    "En regardant le dictionnaire anglais-français\n",
    "\n",
    "* `en_fr_train` est un dictionnaire où la clé est le mot anglais et la valeur\n",
    "est la traduction française de ce mot anglais.\n",
    "```\n",
    "{\"the\" : \"la\",\n",
    " and\" : \"et\",\n",
    " was' : 'était',\n",
    " for : \"pour\",\n",
    "```\n",
    "\n",
    "* `en_fr_test` est similaire à `en_fr_train`, mais c'est un ensemble de tests.  Nous ne le regarderons pas\n",
    "jusqu'à ce qu'on arrive aux tests."
   ]
  },
  {
   "cell_type": "markdown",
   "metadata": {
    "id": "wJ42FZ6psoQ0"
   },
   "source": [
    "### <a name=\"gmwe\"> Chargement des matrices de word embedding </a>\n",
    "\n",
    "\n",
    "\n",
    "On va implémenter une fonction `get_matrices`, qui prend les données chargées\n",
    "et renvoie les matrices `X` et `Y`.\n",
    "\n",
    "Entrées :\n",
    "- `en_fr` : Dictionnaire anglais-français\n",
    "- `en_embeddings` : Dictionnaire anglais des embeddings\n",
    "- `fr_embeddings` : Dictionnaire français des embeddings\n",
    "\n",
    "Sorties :\n",
    "- Matrice `X` et matrice `Y`, où chaque ligne de `X` est le  word embedding pour un\n",
    "mot anglais, et la même ligne dans `Y` est le  word embedding pour la version française de ce mot anglais.\n",
    "\n",
    "<div style=\"width:image width px ; font-size:100% ; text-align:center ;\">\n",
    "<img src='images/X_to_Y.jpg' alt=\"alternate text\" width=\"width\" height=\"height\" style=\"width:800px;height:200px ;\" /></div>\n",
    "\n",
    "Utilisons le dictionnaire `en_fr` pour vous assurer que la ième ligne de la matrice `X`\n",
    "correspond à la ième ligne de la matrice `Y`.\n"
   ]
  },
  {
   "cell_type": "markdown",
   "metadata": {
    "id": "PFxbRp0tsoQ1"
   },
   "source": [
    "la fonction `get_matrices()` :\n",
    "\n",
    "* Itére sur les mots anglais du dictionnaire `en_fr`.\n",
    "* Vérifie si le mot a été vectorisé (embedding) à la fois en anglais et en français."
   ]
  },
  {
   "cell_type": "code",
   "execution_count": 28,
   "metadata": {
    "id": "j4a3COA1soQ1"
   },
   "outputs": [],
   "source": [
    "def get_matrices(en_fr, french_vecs, english_vecs) :\n",
    "    \"\"\"\n",
    "    Entrée :\n",
    "        en_fr : Dictionnaire anglais-français\n",
    "        french_vecs : Les mots français à leurs word embedding correspondants.\n",
    "        english_vecs : Mots anglais avec leurs word embedding correspondants.\n",
    "    Sortie : \n",
    "        X : une matrice où les colonnes sont les word embedding anglais.\n",
    "        Y : une matrice où les colonnes correspondent aux word embedding français .\n",
    "        R : la matrice de projection qui minimise la norme F ||X R -Y||^2.\n",
    "    \"\"\"\n",
    "\n",
    "    # X_l et Y_l sont des listes de word embedding anglais et français \n",
    "    X_l = list()\n",
    "    Y_l = list()\n",
    "\n",
    "    # récupérer les mots anglais (les clés dans le dictionnaire) et les stocker dans un ensemble()\n",
    "    english_set = english_vecs.keys()\n",
    "\n",
    "    # récupérer les mots français (clés dans le dictionnaire) et les stocker dans un ensemble()\n",
    "    french_set = french_vecs.keys()\n",
    "\n",
    "    # stocker les mots français qui font partie du dictionnaire anglais-français (ce sont les valeurs du dictionnaire)\n",
    "    french_words = set(en_fr.values())\n",
    "\n",
    "    # boucler toutes les paires de mots anglais, français dans le dictionnaire anglais-français\n",
    "    for en_word, fr_word in en_fr.items():\n",
    "\n",
    "        # vérifier que le mot français a une vectorisation (embedding) et que le mot anglais a une embedding\n",
    "         if fr_word in french_set and en_word in english_set:\n",
    "    \n",
    "\n",
    "            # obtenir l'embedding en anglais\n",
    "            en_vec = english_vecs [en_word]\n",
    "\n",
    "            # obtenir l'embedding française\n",
    "            fr_vec = french_vecs [fr_word]\n",
    "\n",
    "            # ajouter l'embedding anglaise à la liste\n",
    "            X_l.append(en_vec)\n",
    "\n",
    "            # ajouter l'embedding française à la liste\n",
    "            Y_l.append(fr_vec)\n",
    "\n",
    "    # empiler les vecteurs de X_l dans une matrice X\n",
    "    X = np.vstack(X_l)\n",
    "\n",
    "    # empiler les vecteurs de Y_l dans une matrice Y\n",
    "    Y = np.vstack(Y_l)\n",
    "   \n",
    "\n",
    "    return X, Y\n"
   ]
  },
  {
   "cell_type": "markdown",
   "metadata": {
    "id": "JQZZlJ6tsoQ1"
   },
   "source": [
    "Nous allons maintenant utiliser la fonction `get_matrices()` pour obtenir les ensembles `X_train` et `Y_train`.\n",
    "des words embedding anglais et français dans les modèles spatiaux vectoriels correspondants."
   ]
  },
  {
   "cell_type": "code",
   "execution_count": 29,
   "metadata": {
    "id": "7gFRviZbsoQ2"
   },
   "outputs": [],
   "source": [
    "X_train, Y_train = get_matrices(\n",
    "    en_fr_train, fr_embeddings_subset, en_embeddings_subset)"
   ]
  },
  {
   "cell_type": "markdown",
   "metadata": {
    "id": "SNkA-iTnsoQ2"
   },
   "source": [
    "### <a name=\"gmwetpd\"> Générer la matrice de transformation avec la norme de Frobenius </a>\n",
    "\n",
    "\n",
    "\n",
    "Tout d'abord la norme de Frobenius est la généralisation à $\\mathbf{R}^2$ (espace des Réels au carré) de la fonction de norme déjà connue pour les vecteurs \n",
    "\n",
    "$$\\| \\vec a \\| = \\sqrt {{\\vec a} \\cdot {\\vec a}} $$\n",
    "\n",
    "Pour une matrice A donnée $\\mathbf{R}^2$ , la norme de frobenius est définie comme suit :\n",
    "\n",
    "$$\\|\\mathrm{A}\\|_{F} \\equiv \\sqrt{\\sum_{i=1}^{m} \\sum_{j=1}^{n}\\left|a_{i j}\\right|^{2}}$$\n"
   ]
  },
  {
   "cell_type": "markdown",
   "metadata": {
    "id": "oONJwIbOsoQ2"
   },
   "source": [
    "Exemple calculer $\\|\\mathrm{A}\\|_{F}$ avec $A = \\begin{bmatrix} 2 & 2 \\\\ 2 & 2 \\end{bmatrix}$"
   ]
  },
  {
   "cell_type": "code",
   "execution_count": 30,
   "metadata": {
    "id": "WQXEjej6soQ2"
   },
   "outputs": [],
   "source": [
    "A = np.array([[2, 2],\n",
    "              [2, 2]])"
   ]
  },
  {
   "cell_type": "code",
   "execution_count": 31,
   "metadata": {
    "id": "TBAIpWWmsoQ3",
    "outputId": "06016bef-0553-4c22-9645-5a35657b9721"
   },
   "outputs": [
    {
     "data": {
      "text/plain": [
       "array([[4, 4],\n",
       "       [4, 4]], dtype=int32)"
      ]
     },
     "execution_count": 31,
     "metadata": {},
     "output_type": "execute_result"
    }
   ],
   "source": [
    "A_squared = np.square(A)\n",
    "A_squared"
   ]
  },
  {
   "cell_type": "code",
   "execution_count": 32,
   "metadata": {
    "id": "w-ugNd01soQ3",
    "outputId": "660f1e67-e915-4e47-ce6f-09a452ed4a2d"
   },
   "outputs": [
    {
     "data": {
      "text/plain": [
       "4.0"
      ]
     },
     "execution_count": 32,
     "metadata": {},
     "output_type": "execute_result"
    }
   ],
   "source": [
    "A_Frobenius = np.sqrt(np.sum(A_squared))\n",
    "A_Frobenius"
   ]
  },
  {
   "cell_type": "markdown",
   "metadata": {
    "id": "GauZoky-soQ3"
   },
   "source": [
    "Dans les applications du monde réel, la perte de la norme de Frobenius :\n",
    "\n",
    "$$\\| \\mathbf{XR} - \\mathbf{Y}\\|_{F}$$\n",
    "\n",
    "est souvent remplacée par sa valeur au carré divisée par m:\n",
    "\n",
    "$$ \\frac{1}{m} \\| \\mathbf{X R} - \\mathbf{Y} \\|_{F}^{2}$$\n",
    "\n",
    "où $m$ est le nombre d'exemples (lignes dans $\\mathbf{X}$).\n",
    "\n",
    "* Le même R est trouvé lorsque l'on utilise cette fonction de perte par rapport à la norme originale de Frobenius.\n",
    "* La raison pour laquelle on prend le carré est qu'il est plus facile de calculer le gradient du carré de Frobenius.\n",
    "* La raison de la division par $m$ est que nous sommes plus intéressés par la perte moyenne par intégration que par la perte pour l'ensemble de la formation.\n",
    "    * La perte pour l'ensemble de la formation augmente avec le nombre de mots (exemples de formation),\n",
    "    Ainsi, le fait de prendre la moyenne nous aide à suivre la perte moyenne, quelle que soit la taille de l'ensemble de formation."
   ]
  },
  {
   "cell_type": "markdown",
   "metadata": {
    "id": "uw4QU9V5soQ4"
   },
   "source": [
    "\n",
    "**Comment trouver R ?**\n",
    "\n",
    "On peut utiliser la norme de Foebenius \n",
    "- Initialiser R \n",
    "- faire jusqu'a convergence (Gradient Descent)\n",
    "$$𝐿(𝑋,𝑌,𝑅)=Loss=\\| XR - Y\\|_{F}$$\n",
    "$$g=\\frac{d}{dR}𝐿(𝑋,𝑌,𝑅)=\\frac{d}{dR}\\Big(\\frac{1}{m}\\| X R -Y\\|_{F}^{2}\\Big) = \\frac{2}{m}X^{T} (X R - Y)$$\n",
    "$$R=R-\\alpha g$$ "
   ]
  },
  {
   "cell_type": "markdown",
   "metadata": {
    "id": "9CE8QSdwsoQ4"
   },
   "source": [
    "Calculer la perte\n",
    "* La fonction de perte sera le carré de la norme de Frobenoius de la différence entre\n",
    "et son approximation, divisée par le nombre d'exemples de formation $m$.\n",
    "* Sa formule est la suivante\n",
    "$$ L(X, Y, R)=\\frac{1}{m}\\sum_{i=1}^{m} \\sum_{j=1}^{n}\\left( a_{i j} \\right)^{2}$$\n",
    "\n",
    "où $a_{i j}$ est la valeur dans la $i$ème ligne et la $j$ème colonne de la matrice $XR-Y$."
   ]
  },
  {
   "cell_type": "markdown",
   "metadata": {
    "id": "5reJeKTgsoQ4"
   },
   "source": [
    "Fonction `compute_loss()` pour calculer  $L(X, Y, R)$.\n"
   ]
  },
  {
   "cell_type": "code",
   "execution_count": 33,
   "metadata": {
    "id": "Inpism70soQ5"
   },
   "outputs": [],
   "source": [
    "def compute_loss(X, Y, R):\n",
    "    '''\n",
    "    Entrées : \n",
    "        X : une matrice de dimension (m,n) où les colonnes sont les words embedding anglais.\n",
    "        Y : une matrice de dimension (m,n) où les colonnes correspondent aux words embedding français.\n",
    "        R : une matrice de dimension (n,n) - matrice de transformation des words embedding anglais en words embedding français de l'espace vectoriel.\n",
    "    Sortie :\n",
    "        L : une matrice de dimension (m,n) - la valeur de la fonction de perte pour X, Y et R donnés.\n",
    "    '''\n",
    "   \n",
    "    # m est le nombre de lignes de X\n",
    "    m = X.shape[0]\n",
    "    \n",
    "    # diff est XR - Y\n",
    "    diff = np.dot(X,R)-Y\n",
    "\n",
    "    # diff_squared est le carré de la différence entre les éléments\n",
    "    diff_squared = diff**2\n",
    "\n",
    "    # sum_diff_squared est la somme des éléments au carré\n",
    "    sum_diff_squared = np.sum(diff_squared)\n",
    "\n",
    "    # perte: sum_diff_squared divisée par le nombre d'exemples (m)\n",
    "    loss = sum_diff_squared/m\n",
    "    return loss\n"
   ]
  },
  {
   "cell_type": "markdown",
   "metadata": {
    "id": "zYR9466ZsoQ5"
   },
   "source": [
    "* On va maintenant calculer le gradient g de la perte par rapport à la matrice de transformation `R`.\n",
    "* Le gradient est une matrice qui modifie la valeur d'un petit changement dans `R`.\n",
    "affectent la modification de la fonction de perte.\n",
    "* Le gradient nous donne la direction dans laquelle nous devrions diminuer `R`.\n",
    "pour minimiser la perte.\n",
    "* $m$ est le nombre d'exemples de train (nombre de lignes en $X$).\n",
    "* La formule pour le gradient de la fonction de perte $𝐿(𝑋,𝑌,𝑅)$ est :\n",
    "\n",
    "$$g=\\frac{d}{dR}𝐿(𝑋,𝑌,𝑅)=\\frac{d}{dR}\\Big(\\frac{1}{m}\\| X R -Y\\|_{F}^{2}\\Big) = \\frac{2}{m}X^{T} (X R - Y)$$\n",
    "\n",
    "On implémente la fonction `compute_gradient` ci-dessous."
   ]
  },
  {
   "cell_type": "code",
   "execution_count": 34,
   "metadata": {
    "id": "AHBgwkJ9soQ5"
   },
   "outputs": [],
   "source": [
    "def compute_gradient(X, Y, R):\n",
    "    '''\n",
    "    Entrées : \n",
    "        X : une matrice de dimension (m,n) où les colonnes sont les words embedding anglais.\n",
    "        Y : une matrice de dimension (m,n) où les colonnes correspondent aux words embedding français.\n",
    "        R : une matrice de dimension (n,n) - matrice de transformation des words embedding anglais en words embedding français de l'espace vectoriel.\n",
    "    Sorties :\n",
    "        g : une matrice de dimension (n,n) - gradient de la fonction de perte L pour X, Y et R donnés.\n",
    "    '''\n",
    "    \n",
    "    # m nombre de ligne de X\n",
    "    m = X.shape[0]\n",
    "\n",
    "    # le gradient g est X^T(XR - Y) * 2/m\n",
    "    gradient = np.dot(X.transpose(),np.dot(X,R)-Y)*(2/m)\n",
    "    return gradient\n"
   ]
  },
  {
   "cell_type": "markdown",
   "metadata": {
    "id": "27ov7ZavsoQ5"
   },
   "source": [
    "On va implémenter la fonction `align_embeddings` pour la mise à jour par Gradient Descent $$R=R-\\alpha g$$  ou $\\alpha$ est le taux d'apprentissage\n",
    "\n",
    "* Le taux d'apprentissage ou `taille de l'échelon` $\\alpha$ est un coefficient qui décide combien nous voulons changer $R$ à chaque échelon.\n",
    "* Si nous changeons trop $R$, nous pourrions sauter l'optimum en prenant un pas trop grand.\n",
    "* Si nous ne changeons que légèrement $R$, nous aurons besoin de plusieurs étapes pour atteindre l'optimum.\n",
    "* Le taux d'apprentissage $\\alpha$ est utilisé pour contrôler ces changements.\n",
    "* Les valeurs de $\\alpha$ sont choisies en fonction du problème, et nous utiliserons `learning_rate`$=0.0003$ comme valeur par défaut pour notre algorithme."
   ]
  },
  {
   "cell_type": "code",
   "execution_count": 35,
   "metadata": {
    "id": "Wbnr3NItsoQ6"
   },
   "outputs": [],
   "source": [
    "def align_embeddings(X, Y, train_steps=100, learning_rate=0.0003):\n",
    "    '''\n",
    "    Entrées :\n",
    "        X : une matrice de dimension (m,n) où les colonnes sont les words embedding anglais.\n",
    "        Y : une matrice de dimension (m,n) où les colonnes correspondent aux words embedding français.\n",
    "        train_steps : int positif - décrit le nombre de pas que fera l'algorithme de descente en gradient.\n",
    "        learning_rate : positive float - décrit la taille des pas de l'algorithme de descente de gradient.\n",
    "    Sorties :\n",
    "        R : une matrice de dimension (n,n) - la matrice de projection qui minimise la norme F ||X R -Y||^2\n",
    "    '''\n",
    "    np.random.seed(129)\n",
    "\n",
    "    # le nombre de colonnes de X est le nombre de dimensions pour un vecteur de mots (par exemple 300)\n",
    "    # R est une matrice carrée dont la longueur est égale au nombre de dimensions de le word enbedding\n",
    "    R = np.random.rand(X.shape[1], X.shape[1])\n",
    "\n",
    "    for i in range(train_steps):\n",
    "        if i % 25 == 0:\n",
    "            print(f\"loss at iteration {i} is: {compute_loss(X, Y, R):.4f}\")\n",
    "       \n",
    "        # utilise la fonction définie pour calculer le gradient\n",
    "        gradient = compute_gradient(X,Y,R)\n",
    "\n",
    "        # mettre à jour R en soustrayant le taux d'apprentissage fois le gradient\n",
    "        R -= learning_rate * gradient\n",
    "\n",
    "    return R\n"
   ]
  },
  {
   "cell_type": "markdown",
   "metadata": {
    "id": "xnm39sh-soQ6"
   },
   "source": [
    "Test"
   ]
  },
  {
   "cell_type": "code",
   "execution_count": 36,
   "metadata": {
    "id": "124cMSHXsoQ6",
    "outputId": "84b90f41-ad79-46b0-be92-a4940cf2d4de"
   },
   "outputs": [
    {
     "name": "stdout",
     "output_type": "stream",
     "text": [
      "loss at iteration 0 is: 3.7242\n",
      "loss at iteration 25 is: 3.6283\n",
      "loss at iteration 50 is: 3.5350\n",
      "loss at iteration 75 is: 3.4442\n"
     ]
    }
   ],
   "source": [
    "np.random.seed(129)\n",
    "m = 10\n",
    "n = 5\n",
    "X = np.random.rand(m, n)\n",
    "Y = np.random.rand(m, n) * .1\n",
    "R = align_embeddings(X, Y)"
   ]
  },
  {
   "cell_type": "markdown",
   "metadata": {
    "id": "AizKB0z0soQ6"
   },
   "source": [
    "calcul de R sur nos données"
   ]
  },
  {
   "cell_type": "code",
   "execution_count": 37,
   "metadata": {
    "id": "-uUCPdCmsoQ7",
    "outputId": "e4e2d7d2-19ee-4a32-f9d4-9970b9b738a6"
   },
   "outputs": [
    {
     "name": "stdout",
     "output_type": "stream",
     "text": [
      "loss at iteration 0 is: 963.0146\n",
      "loss at iteration 25 is: 97.8292\n",
      "loss at iteration 50 is: 26.8329\n",
      "loss at iteration 75 is: 9.7893\n",
      "loss at iteration 100 is: 4.3776\n",
      "loss at iteration 125 is: 2.3281\n",
      "loss at iteration 150 is: 1.4480\n",
      "loss at iteration 175 is: 1.0338\n",
      "loss at iteration 200 is: 0.8251\n",
      "loss at iteration 225 is: 0.7145\n",
      "loss at iteration 250 is: 0.6534\n",
      "loss at iteration 275 is: 0.6185\n",
      "loss at iteration 300 is: 0.5981\n",
      "loss at iteration 325 is: 0.5858\n",
      "loss at iteration 350 is: 0.5782\n",
      "loss at iteration 375 is: 0.5735\n"
     ]
    }
   ],
   "source": [
    "R_train = align_embeddings(X_train, Y_train, train_steps=400, learning_rate=0.8)"
   ]
  },
  {
   "cell_type": "code",
   "execution_count": 38,
   "metadata": {
    "id": "SM2nNzzBsoQ7",
    "outputId": "f350fc8d-c963-48aa-ab00-680d2dba7de7"
   },
   "outputs": [
    {
     "data": {
      "text/plain": [
       "array([[-0.01362498, -0.01376288, -0.00382809, ...,  0.00297988,\n",
       "        -0.00585451, -0.00035307],\n",
       "       [ 0.02115732, -0.00386311,  0.00583104, ...,  0.02312933,\n",
       "        -0.00235515,  0.00306189],\n",
       "       [ 0.00820657,  0.00297308,  0.01993382, ..., -0.00215262,\n",
       "        -0.00264195,  0.00812032],\n",
       "       ...,\n",
       "       [-0.00135703,  0.00797791, -0.01720783, ..., -0.00984865,\n",
       "         0.00672823,  0.00275493],\n",
       "       [ 0.00619364, -0.00598647,  0.0027768 , ..., -0.00575446,\n",
       "         0.00292054,  0.00327975],\n",
       "       [ 0.0053762 , -0.01577644, -0.00707282, ..., -0.01446361,\n",
       "         0.00845145, -0.00706754]])"
      ]
     },
     "execution_count": 38,
     "metadata": {},
     "output_type": "execute_result"
    }
   ],
   "source": [
    "R_train"
   ]
  },
  {
   "cell_type": "markdown",
   "metadata": {
    "id": "gpnwEixesoQ7"
   },
   "source": [
    "On pourrait aussi utiliser les [K-plus proches](https://fr.wikipedia.org/wiki/M%C3%A9thode_des_k_plus_proches_voisins) pour trouver un mot francais correspondant mais il n'y a pas de garantie comme celle de trouver ces amis les plus proce dans un meme pays mais si ce n'est pas dans un continent on a plus de chance. Alors pourquoi ne pas placer chacun de nos amis dans des sceaux? parlons des Hash Tables (Regrouper dans des sceaux par similitude) et fonction de Hashage."
   ]
  },
  {
   "cell_type": "markdown",
   "metadata": {
    "id": "PcMpejrRsoQ7"
   },
   "source": [
    "### <a name=\"kt\"> KNN et tests </a>\n",
    "\n",
    "Comme nous approchons la fonction de traduction des embeddings de l'anglais au français par une matrice de transformation linéaire $R$, la plupart du temps nous n'obtiendrons pas l'embedding exacte d'un mot français lorsque nous transformons l'embedding $\\mathbf{e}$ d'un mot anglais particulier dans l'espace d'embeddings français. \n",
    "* C'est là que $k$-NN devient vraiment utile ! En utilisant $1$-NN avec $eR$ comme entrée, nous pouvons rechercher une embeddings $\\mathbf{f}$ (en ligne) dans la matrice $\\mathbf{Y}$ qui est la plus proche du vecteur transformé $eR$."
   ]
  },
  {
   "cell_type": "markdown",
   "metadata": {
    "id": "bZAqCxz6soQ8"
   },
   "source": [
    "Entrées :\n",
    "* Vecteur `v`,\n",
    "* Un ensemble de voisins les plus proches possibles `candidats`.\n",
    "* `k` les plus proches voisins à trouver.\n",
    "* La métrique de la distance doit être basée sur la similarité du cosinus.\n",
    "* La fonction de similarité cosinus est déjà implémentée et importée pour vous. Ses arguments sont deux vecteurs et elle renvoie le cosinus de l'angle entre eux.\n",
    "* On itère les lignes dans les `candidats`, et on sauvegarde le résultat des similarités entre la ligne courante et le vecteur `v` dans une liste python. On doit faire attention à ce que les similarités soient dans le même ordre que les vecteurs de lignes des `candidats`.\n",
    "* On peut maintenant utiliser [numpy argsort]( https://docs.scipy.org/doc/numpy/reference/generated/numpy.argsort.html#numpy.argsort) pour trier les indices des lignes de `candidats`."
   ]
  },
  {
   "cell_type": "markdown",
   "metadata": {
    "id": "JcOLfwG4-CY_"
   },
   "source": [
    "Implémentons la fonction `nearest_neighbor`"
   ]
  },
  {
   "cell_type": "code",
   "execution_count": 39,
   "metadata": {
    "id": "_M6wgxaFsoQ8"
   },
   "outputs": [],
   "source": [
    "def nearest_neighbor(v, candidates, k=1) :\n",
    "    \"\"\"\n",
    "    Entrée :\n",
    "      - v, le vecteur pour lequel vous allez trouver le plus proche voisin\n",
    "      - les candidats : un ensemble de vecteurs où l'on trouvera les voisins\n",
    "      - k : top k des voisins les plus proches à trouver\n",
    "    Sortie :\n",
    "      - k_idx : les indices des k vecteurs les plus proches sous forme triée\n",
    "    \"\"\"\n",
    "\n",
    "    similarity_l = []\n",
    "\n",
    "    # pour chaque vecteur candidat...\n",
    "    for row in candidates:\n",
    "        # obtenir la similarité du cosinus\n",
    "        cos_similarity = cosine_similarity(v,row)\n",
    "\n",
    "        # ajouter la similarité à la liste\n",
    "        similarity_l.append(cos_similarity)\n",
    "        \n",
    "    # trier la liste de similitudes et obtenir les indices de la liste triée\n",
    "    sorted_ids = np.argsort(similarity_l)\n",
    "\n",
    "    # obtenir les indices des k vecteurs candidats les plus similaires\n",
    "    k_idx = sorted_ids[-k:]\n",
    "    \n",
    "    return k_idx"
   ]
  },
  {
   "cell_type": "markdown",
   "metadata": {
    "id": "-03HmHT7soQ9"
   },
   "source": [
    "voici les 3 plus proches "
   ]
  },
  {
   "cell_type": "code",
   "execution_count": 40,
   "metadata": {
    "id": "EGtuCQFesoQ8",
    "outputId": "76816b45-a0f6-4c8b-fdae-2b18a8e1dbdd"
   },
   "outputs": [
    {
     "name": "stdout",
     "output_type": "stream",
     "text": [
      "[[9 9 9]\n",
      " [1 0 5]\n",
      " [2 0 1]]\n"
     ]
    }
   ],
   "source": [
    "\n",
    "v = np.array([1, 0, 1])\n",
    "candidates = np.array([[1, 0, 5], [-2, 5, 3], [2, 0, 1], [6, -9, 5], [9, 9, 9]])\n",
    "print(candidates[nearest_neighbor(v, candidates, 3)])"
   ]
  },
  {
   "cell_type": "markdown",
   "metadata": {
    "id": "ixovSnUksoQ9"
   },
   "source": [
    "Implémentons maintenant la fonction `test_vocabulary` qui prend en compte la matrice des words embeddings anglais $X$, la matrice des words embeddings français $Y$ et le $R$ et renvoie la précision des traductions de $X$ à $Y$ par $R$.\n",
    "\n",
    "* Itérer les words embeddings anglais transformés et vérifié si le\n",
    "words embeddings français le plus proche appartient au mot français qui est la traduction réelle.\n",
    "* Obtenir un index de l'incrustation française la plus proche en utilisant\n",
    "`nearest_neighbor` (avec l'argument `k=1`), et le comparer à l'index\n",
    "du word embedding anglais que vous venez de transformer.\n",
    "* Notez le nombre de fois que vous obtenez la bonne traduction.\n",
    "* Calculer la précision comme suit : $$\\text{accuracy}=\\frac{\\#(\\text{correct predictions})}{\\#(\\text{total predictions})}$$"
   ]
  },
  {
   "cell_type": "code",
   "execution_count": 41,
   "metadata": {
    "id": "54-dDdOesoQ9"
   },
   "outputs": [],
   "source": [
    "# UNQ_C10 (UNIQUE CELL IDENTIFIER, DO NOT EDIT)\n",
    "def test_vocabulary(X, Y, R):\n",
    "    '''\n",
    "    Entrée :\n",
    "        X : une matrice où les colonnes sont les words embedding anglais.\n",
    "        Y : une matrice où les colonnes correspondent aux words embedding français.\n",
    "        R : la matrice de transformation qui traduit les words embedding de l'espace vectoriel de mots anglais-français.\n",
    "    Sortie :\n",
    "        accuracy (précision) : pour les capitales de l'anglais vers le français\n",
    "    '''\n",
    "    # La prédiction est X fois R\n",
    "    pred = np.dot(X,R)\n",
    "\n",
    "    # initialiser le num_correct à zéro\n",
    "    num_correct = 0\n",
    "\n",
    "    # boucle à travers chaque ligne dans le pred (chaque embedding transformé)\n",
    "    for i in range(len(pred)):\n",
    "        # obtenir l'indice du plus proche voisin de pred à la ligne \"i\" ; passer également les candidats à Y\n",
    "        pred_idx = nearest_neighbor(pred[i],Y)\n",
    "\n",
    "       # si l'indice du plus proche voisin est égal à la ligne de i... \\\n",
    "        if pred_idx == i:\n",
    "            # incrémenter le nombre correct de 1.\n",
    "            num_correct += 1\n",
    "\n",
    "    # La précision est le nombre correct divisé par le nombre de lignes dans \"pred\" (également le nombre de lignes dans X)\n",
    "    accuracy = num_correct / len(pred)\n",
    "\n",
    "    return accuracy\n"
   ]
  },
  {
   "cell_type": "markdown",
   "metadata": {
    "id": "PX04PZZxsoQ9"
   },
   "source": [
    "Voyons comment fonctionne notre mécanisme de traduction sur les données non visibles :"
   ]
  },
  {
   "cell_type": "code",
   "execution_count": 42,
   "metadata": {
    "id": "rg7Y5b4vsoQ-"
   },
   "outputs": [],
   "source": [
    "X_val, Y_val = get_matrices(en_fr_test, fr_embeddings_subset, en_embeddings_subset)"
   ]
  },
  {
   "cell_type": "code",
   "execution_count": 43,
   "metadata": {
    "id": "3h3TO8_wsoQ-",
    "outputId": "2ec667d7-184c-4085-cbd8-d028d0cf338d"
   },
   "outputs": [
    {
     "name": "stdout",
     "output_type": "stream",
     "text": [
      "La précision de l'ensemble de tests est 0.557\n"
     ]
    }
   ],
   "source": [
    "acc = test_vocabulary(X_val, Y_val, R_train)  # cela pourrait prendre une minute ou deux\n",
    "print(f\"La précision de l'ensemble de tests est {acc:.3f}\")"
   ]
  },
  {
   "cell_type": "markdown",
   "metadata": {
    "id": "wYOHPHTUsoQ-"
   },
   "source": [
    "# <a name=\"3\">III.Matrice et Vecteur de documents (tweets)</a>\n"
   ]
  },
  {
   "cell_type": "markdown",
   "metadata": {
    "id": "teqjpLAFbsGE"
   },
   "source": [
    "## <a name=\"vd\">Vecteur de document</a>\n",
    "\n",
    "On peut représenter un document( ici il s'agira d'un ensemble de `tweet`) comme un vecteur en additionnant les vecteurs de mots pour les mots à l'intérieur du document. Dans cet exemple, notre **\"word embedding\"** ( le mot et son vecteur si on se réfère à la partie précédente) ne contient que trois mots, chacun étant représenté par un tableau 3D."
   ]
  },
  {
   "cell_type": "markdown",
   "metadata": {
    "id": "SvuXPpxPsoQ-"
   },
   "source": [
    "<img src=\"images/doc.png\" style=\"width:700px;height:400;\">"
   ]
  },
  {
   "cell_type": "markdown",
   "metadata": {
    "id": "XVYFamMDsoQ_"
   },
   "source": [
    "Voici le code nous permettant de représenter l'embedding de I love learng!"
   ]
  },
  {
   "cell_type": "code",
   "execution_count": 44,
   "metadata": {
    "id": "lbAGXAAfsoQ_",
    "outputId": "c3c7df0e-1a5a-4faa-c765-9976185e0812"
   },
   "outputs": [
    {
     "name": "stdout",
     "output_type": "stream",
     "text": [
      "[1 0 3]\n"
     ]
    }
   ],
   "source": [
    "word_embedding = {\"I\": np.array([1,0,1]),\n",
    "                   \"love\": np.array([-1,0,1]),\n",
    "                   \"learning\": np.array([1,0,1])\n",
    "                  }\n",
    "words_in_document = ['I', 'love', 'learning', 'not_a_word']\n",
    "document_embedding = np.array([0,0,0])\n",
    "for word in words_in_document:\n",
    "    document_embedding += word_embedding.get(word,0)\n",
    "    \n",
    "print(document_embedding)"
   ]
  },
  {
   "cell_type": "markdown",
   "metadata": {
    "id": "1qT2uVEdZwqI"
   },
   "source": [
    "## <a name=\"idt\"> Importation des données de tweets</a>"
   ]
  },
  {
   "cell_type": "markdown",
   "metadata": {
    "id": "v_CT_ybdRoDk"
   },
   "source": [
    "On utilise la base de donnée **twitter_samples** qui contient des tweets en anglais ayant des sentiments positifs et négatifs."
   ]
  },
  {
   "cell_type": "code",
   "execution_count": 45,
   "metadata": {
    "id": "wWo1RzP-soQ_"
   },
   "outputs": [],
   "source": [
    "from nltk.corpus import twitter_samples"
   ]
  },
  {
   "cell_type": "code",
   "execution_count": 46,
   "metadata": {
    "id": "m_y9x37PsoRA"
   },
   "outputs": [],
   "source": [
    "# récupérer les tweets positifs and negatifs \n",
    "all_positive_tweets = twitter_samples.strings('positive_tweets.json')\n",
    "all_negative_tweets = twitter_samples.strings('negative_tweets.json')\n",
    "all_tweets = all_positive_tweets + all_negative_tweets"
   ]
  },
  {
   "cell_type": "markdown",
   "metadata": {
    "id": "ccoFI-6_eIc5"
   },
   "source": [
    "## <a name=\"cmddt\"> Construction de la matrice de document avec les données de tweets</a>"
   ]
  },
  {
   "cell_type": "markdown",
   "metadata": {
    "id": "FX1FfUa4Dowp"
   },
   "source": [
    "Nous allons implémenter plusieurs fonction pour pouvoir représenter l'ensemble des vecteurs de chaque teweet en une matrice."
   ]
  },
  {
   "cell_type": "markdown",
   "metadata": {
    "id": "dANq7Etc-eS3"
   },
   "source": [
    "Fonction ` process_tweet()`qui renvoie un tweet tokénisé (vecteur qui contients les mots \"importants\" du tweet)"
   ]
  },
  {
   "cell_type": "code",
   "execution_count": 47,
   "metadata": {
    "id": "azgzgdFSsoQ_"
   },
   "outputs": [],
   "source": [
    "import re\n",
    "import string\n",
    "import numpy as np\n",
    "\n",
    "from nltk.corpus import stopwords\n",
    "from nltk.stem import PorterStemmer\n",
    "from nltk.tokenize import TweetTokenizer\n",
    "\n",
    "\n",
    "\n",
    "def process_tweet(tweet):\n",
    "    \"\"\"Fonction  process_tweet.\n",
    "    Entrée :\n",
    "        tweet : une chaîne de caractères contenant un tweet\n",
    "    Sortie :\n",
    "        tweets_clean : une liste de mots contenant le tweet traité\n",
    "\n",
    "    \"\"\"\n",
    "    stemmer = PorterStemmer()\n",
    "    stopwords_english = stopwords.words('english')\n",
    "    # supprimer les tickers etc comme $GE\n",
    "    tweet = re.sub(r'\\$\\w*', '', tweet)\n",
    "    # supprimer l'ancien texte retweet \"RT\"\n",
    "    tweet = re.sub(r'^RT[\\s]+', '', tweet)\n",
    "    # supprimer les hyperliens\n",
    "    tweet = re.sub(r'https?:\\/\\/.*[\\r\\n]*', '', tweet)\n",
    "    # supprimer les hashtags\n",
    "    # en retirant seulement le signe dièse # du mot\n",
    "    tweet = re.sub(r'#', '', tweet)\n",
    "    # tokenizer les tweets\n",
    "    tokenizer = TweetTokenizer(preserve_case=False, strip_handles=True,\n",
    "                               reduce_len=True)\n",
    "    tweet_tokens = tokenizer.tokenize(tweet)\n",
    "\n",
    "    tweets_clean = []\n",
    "    for word in tweet_tokens:\n",
    "        if (word not in stopwords_english and  # supprimer les stopwords\n",
    "                word not in string.punctuation):  # supprimer les ponctuations\n",
    "            # tweets_clean.append(word)\n",
    "            stem_word = stemmer.stem(word)  # racine du mot\n",
    "            tweets_clean.append(stem_word)\n",
    "\n",
    "    return tweets_clean\n"
   ]
  },
  {
   "cell_type": "markdown",
   "metadata": {
    "id": "mYAE6wlkBx66"
   },
   "source": [
    "Fonction `get_document_embedding` qui calcule la somme des Word embediing de tweet pour obtenir l'embedding des documents. On utilisera les words enbedding de la [partie précédente](#dicti)"
   ]
  },
  {
   "cell_type": "code",
   "execution_count": 48,
   "metadata": {
    "id": "194tk1OSsoRA"
   },
   "outputs": [],
   "source": [
    "def get_document_embedding(tweet, en_embeddings): \n",
    "    '''\n",
    "    Entrée :\n",
    "        - tweet : une chaîne de caractere\n",
    "        - en_embeddings : un dictionnaire de word embedding (mot,vecteur)\n",
    "    Sortie :\n",
    "        - doc_embedding : somme de tout les word embedding pour les mots du tweet tokénisé\n",
    "    '''\n",
    "    doc_embedding = np.zeros(300)\n",
    "\n",
    "    # transformer le document (tweet) en une liste de mots (traiter le tweet)\n",
    "    processed_doc = process_tweet(tweet)\n",
    "    for word in processed_doc:\n",
    "        # ajouter le word embeding au total courant pour l'embedding (la vectorisation) du document\n",
    "        doc_embedding += en_embeddings.get(word,0)\n",
    " \n",
    "    return doc_embedding\n"
   ]
  },
  {
   "cell_type": "code",
   "execution_count": 49,
   "metadata": {
    "id": "IhjexyrdsoRA",
    "outputId": "49654e74-7450-4514-92a1-db1ec6692ddf"
   },
   "outputs": [
    {
     "data": {
      "text/plain": [
       "array([-0.00268555, -0.15378189, -0.55761719, -0.07216644, -0.32263184])"
      ]
     },
     "execution_count": 49,
     "metadata": {},
     "output_type": "execute_result"
    }
   ],
   "source": [
    "# test de notre fonction avec un tweet on affiche les 5 derniers\n",
    "custom_tweet = \"RT @Twitter @chapagain Hello There! Have a great day. :) #good #morning http://chapagain.com.np\"\n",
    "tweet_embedding = get_document_embedding(custom_tweet, en_embeddings_subset)\n",
    "tweet_embedding[-5:]"
   ]
  },
  {
   "cell_type": "markdown",
   "metadata": {
    "id": "6l-Pt8aFQWZ8"
   },
   "source": [
    "Tweet tokénisé:"
   ]
  },
  {
   "cell_type": "code",
   "execution_count": 50,
   "metadata": {
    "id": "T1F-4dfwH9kG"
   },
   "outputs": [
    {
     "data": {
      "text/plain": [
       "['hello', 'great', 'day', ':)', 'good', 'morn']"
      ]
     },
     "execution_count": 50,
     "metadata": {},
     "output_type": "execute_result"
    }
   ],
   "source": [
    "process_tweet(custom_tweet)"
   ]
  },
  {
   "cell_type": "markdown",
   "metadata": {
    "id": "nQNgFIhuQbvF"
   },
   "source": [
    "Fonction `get_document_vecs` pour avoir l'embedding de chaque tweet de nos données **twitter_samples**"
   ]
  },
  {
   "cell_type": "code",
   "execution_count": 51,
   "metadata": {
    "id": "Y5l-l5hzsoRB"
   },
   "outputs": [],
   "source": [
    "def get_document_vecs(all_docs, en_embeddings):\n",
    "    '''\n",
    "    Entrée :\n",
    "        - all_docs : liste des chaînes de caractères de tous les tweets de notre base de données.\n",
    "        - en_embeddings : dictionnaire dont les mots sont les clés et les valeurs sont leurs embeddings.\n",
    "    Sortie :\n",
    "        - document_vec_matrix : matrice des word embedding de document (tweet).\n",
    "        - ind2Doc_dict : dictionnaire avec les indices des tweets en vecteurs comme clés et leurs valeurs.\n",
    "    '''\n",
    "\n",
    "    # la clé du dictionnaire est un index (entier) qui identifie un tweet spécifique\n",
    "    # la valeur est l'encastrement du document pour ce document\n",
    "    ind2Doc_dict = {}\n",
    "\n",
    "    # c'est la liste qui permettra de stocker les vecteurs de documents\n",
    "    document_vec_l = []\n",
    "\n",
    "    for i, doc in enumerate(all_docs):\n",
    "\n",
    "        # obtenir l'embedding du document dans le tweet\n",
    "        doc_embedding = get_document_embedding(doc,en_embeddings)\n",
    "\n",
    "        # enregistrer l'embedding du document dans le dictionnaire ind2Tweet à l'index i\n",
    "        ind2Doc_dict[i] = doc_embedding\n",
    "\n",
    "        # ajouter l'embedding du document dans la liste des vecteurs de document\n",
    "        document_vec_l.append(doc_embedding)\n",
    "\n",
    "\n",
    "    # convertir la liste des vecteurs de documents en un tableau 2D (chaque ligne est un vecteur de document)\n",
    "    document_vec_matrix = np.vstack(document_vec_l)\n",
    "\n",
    "    return document_vec_matrix, ind2Doc_dict\n"
   ]
  },
  {
   "cell_type": "code",
   "execution_count": 52,
   "metadata": {
    "id": "-zKCCJeMsoRB"
   },
   "outputs": [],
   "source": [
    "document_vecs, ind2Tweet = get_document_vecs(all_tweets, en_embeddings_subset)"
   ]
  },
  {
   "cell_type": "code",
   "execution_count": 53,
   "metadata": {
    "id": "GDNG3lVVsoRB",
    "outputId": "913c6cfa-dd22-4e06-b69a-4ecc50e9a74e"
   },
   "outputs": [
    {
     "name": "stdout",
     "output_type": "stream",
     "text": [
      "longueur du dictionnaire 10000\n",
      "taille de document_vecs  (10000, 300)\n"
     ]
    }
   ],
   "source": [
    "print(f\"longueur du dictionnaire {len(ind2Tweet)}\")\n",
    "print(f\"taille de document_vecs  {document_vecs.shape}\")"
   ]
  },
  {
   "cell_type": "code",
   "execution_count": 54,
   "metadata": {
    "id": "zNro6JdhE3bG"
   },
   "outputs": [
    {
     "data": {
      "text/plain": [
       "array([ 0.04821777, -0.01904297,  0.15820312, -0.18847656, -0.11352539])"
      ]
     },
     "execution_count": 54,
     "metadata": {},
     "output_type": "execute_result"
    }
   ],
   "source": [
    "document_vecs[0,:5]"
   ]
  },
  {
   "cell_type": "markdown",
   "metadata": {
    "id": "8SKK2w9wa7sB"
   },
   "source": [
    "## <a name=\"ttsasc\"> Trouver les tweets similaires avec la similarité cosinus</a>"
   ]
  },
  {
   "cell_type": "markdown",
   "metadata": {
    "id": "GdYb0la6soRB"
   },
   "source": [
    "\n",
    "Nous avons maintenant un vecteur de dimension (m,d) où \"m\" est le nombre de tweets (10 000) et \"d\" est la dimension des embeddings (300).  Nous allons maintenant entrer un tweet, et utiliser la similarité cosinus pour voir quel tweet dans notre corpus lui est similaire."
   ]
  },
  {
   "cell_type": "code",
   "execution_count": 55,
   "metadata": {
    "id": "1b3I6XJysoRC"
   },
   "outputs": [],
   "source": [
    "my_tweet = 'i am sad'\n",
    "process_tweet(my_tweet)\n",
    "tweet_embedding = get_document_embedding(my_tweet, en_embeddings_subset)"
   ]
  },
  {
   "cell_type": "code",
   "execution_count": 56,
   "metadata": {
    "id": "Rzuq69AJsoRC",
    "outputId": "45cc225f-5708-478f-efe6-d25e9bf63072"
   },
   "outputs": [
    {
     "name": "stdout",
     "output_type": "stream",
     "text": [
      "@zoeeylim sad sad sad kid :( it's ok I help you watch the match HAHAHAHAHA\n"
     ]
    }
   ],
   "source": [
    "# cela nous donne un tweet similaire à votre contribution.\n",
    "# cette implémentation est vectorisée...\n",
    "idx = np.argmax(cosine_similarity(document_vecs, tweet_embedding))\n",
    "print(all_tweets[idx])"
   ]
  },
  {
   "cell_type": "markdown",
   "metadata": {
    "id": "sj1yJdl4soRE"
   },
   "source": [
    "# <a name=\"4\">IV. [Hachage sensible à la localité (HSL)](https://fr.qaz.wiki/wiki/Locality-sensitive_hashing)</a>"
   ]
  },
  {
   "cell_type": "markdown",
   "metadata": {
    "id": "QkLUCKKWsoRC"
   },
   "source": [
    "## <a name=\"fh\">Fonction de Hashage </a>"
   ]
  },
  {
   "cell_type": "markdown",
   "metadata": {
    "id": "KCbyxhFqsoRC"
   },
   "source": [
    "Ici nos \"amis\" sont les vecteur de mot (word embedding)\n",
    "\n",
    "La fonction de hashage: c'est la fonction qui va nous permettre de regrouper nos vecteurs dans des sceaux.\n",
    "\n",
    "Soit 10 sceaux numérotées de 0 à 9 \n"
   ]
  },
  {
   "cell_type": "markdown",
   "metadata": {
    "id": "EhaCa49QsoRD"
   },
   "source": [
    "\n",
    "Soit 10 sceaux numérotées de 0 à 9 \n",
    "\n",
    "on associe 100 et 10 au sceaux 0 \n",
    "On associe 14 au sceau 4\n",
    "On associe 17 au sceau 7\n",
    "On associe 97 au sceau 7\n"
   ]
  },
  {
   "cell_type": "markdown",
   "metadata": {
    "id": "6I7VVkh8soRD"
   },
   "source": [
    "\n",
    "ici l'opérattion de hachage est définit par  Fonction_hachage(Value)= Hash Value avec Hash_Value = Value %  n_buckets(nombre de sceau)  avec % qui signifie modulo, le reste de la division euclidienne de vector par le nombre de sceau qui est de 10, exempe  en effet 14%10 =4 car 10*1+4"
   ]
  },
  {
   "cell_type": "code",
   "execution_count": 57,
   "metadata": {
    "id": "kACKyfrksoRD"
   },
   "outputs": [],
   "source": [
    "import pprint                     \n",
    "pp = pprint.PrettyPrinter(indent=4) # jolie couleur"
   ]
  },
  {
   "cell_type": "markdown",
   "metadata": {
    "id": "iLX6G2Zewbvn"
   },
   "source": [
    "Implémentons cette exemple avec la fonction `basic_hash_table().`"
   ]
  },
  {
   "cell_type": "code",
   "execution_count": 58,
   "metadata": {
    "id": "TV2Jcem8soRD"
   },
   "outputs": [],
   "source": [
    "def basic_hash_table(value_l, n_buckets):\n",
    "    \n",
    "    def hash_function(value, n_buckets):\n",
    "        return int(value) % n_buckets\n",
    "    \n",
    "    hash_table = {i:[] for i in range(n_buckets)} # Initialiser tous les seaux dans la table de hachage comme des listes vides\n",
    "\n",
    "    for value in value_l:\n",
    "        hash_value = hash_function(value,n_buckets) # Obtenir la clé de hachage pour la valeur donnée\n",
    "        hash_table[hash_value].append(value) # Ajouter l'élément au seau correspondant\n",
    "    \n",
    "    return hash_table"
   ]
  },
  {
   "cell_type": "code",
   "execution_count": 59,
   "metadata": {
    "id": "w01peQlKsoRE",
    "outputId": "2059eea0-9fda-4b57-f037-e6f89b1929db"
   },
   "outputs": [
    {
     "name": "stdout",
     "output_type": "stream",
     "text": [
      "{   0: [100, 10],\n",
      "    1: [],\n",
      "    2: [],\n",
      "    3: [],\n",
      "    4: [14],\n",
      "    5: [],\n",
      "    6: [],\n",
      "    7: [17, 97],\n",
      "    8: [],\n",
      "    9: []}\n"
     ]
    }
   ],
   "source": [
    "value_l = [100, 10, 14, 17, 97] # Set of values to hash\n",
    "hash_table_example = basic_hash_table(value_l, n_buckets=10)\n",
    "pp.pprint(hash_table_example)"
   ]
  },
  {
   "cell_type": "markdown",
   "metadata": {
    "id": "AuZ6wyoksoRF"
   },
   "source": [
    "## <a name=\"fhm\">Fonction de Hachage multiplan </a>\n",
    "\n",
    "Les fonctions de hachage multiplans sont d'autres types de fonctions de hachage. Les fonctions de hachage multiplans sont basées sur l'idée de numéroter chaque région formée par l'intersection de n plans ont les considères alors comme nos sceaux à remplir. Dans le code suivant, nous montrons les formes les plus fondamentales du principe des multiplans. Tout d'abord, avec un seul plan définit par le vecteur normal P= [1,1]"
   ]
  },
  {
   "cell_type": "code",
   "execution_count": 60,
   "metadata": {
    "id": "lFKpefqTsoRF",
    "outputId": "c43480ae-6881-4f55-ece8-69b8129cee63"
   },
   "outputs": [
    {
     "data": {
      "image/png": "[encoded data removed]",
      "text/plain": [
       "<Figure size 576x576 with 1 Axes>"
      ]
     },
     "metadata": {
      "needs_background": "light"
     },
     "output_type": "display_data"
    }
   ],
   "source": [
    "P = np.array([[1, 1]]) # Définir un plan unique. \n",
    "fig, ax1 = plt.subplots(figsize=(8, 8)) #la taille de la figure \n",
    "\n",
    "plot_vectors([P], axes=[2, 2], ax=ax1) # Tracez le plan P comme un vecteur\n",
    "\n",
    "# Tracer des points au hasard. \n",
    "for i in range(0, 10):\n",
    "        v1 = np.array(np.random.uniform(-2, 2, 2)) # Obtenez une paire de nombres aléatoires entre -4 et 4 \n",
    "        side_of_plane = np.sign(np.dot(P, v1.T)) \n",
    "        \n",
    "       # Colorer les points en fonction du signe du résultat de np.dot(P, point.T)\n",
    "        if side_of_plane == 1:\n",
    "            ax1.plot([v1[0]], [v1[1]], 'bo') # point bleu\n",
    "        else:\n",
    "            ax1.plot([v1[0]], [v1[1]], 'ro') # point rouge\n",
    "\n",
    "plt.show()\n"
   ]
  },
  {
   "cell_type": "markdown",
   "metadata": {
    "id": "suXhwRVFsoRF"
   },
   "source": [
    "La première chose à noter est que le vecteur qui définit le plan ne marque pas la limite entre les deux côtés du plan. Il marque la direction dans laquelle vous trouvez le côté \"positif\" du plan. Ce n'est pas du tout intuitif !\n",
    "\n",
    "Si nous voulons tracer le plan de séparation, nous devons tracer une ligne qui est perpendiculaire à notre vecteur `P`. Nous pouvons obtenir une telle ligne en utilisant une matrice de rotation de $90^o$. Avant celà voyons un peu les hyperplans et les matrices de rotation.\n"
   ]
  },
  {
   "cell_type": "markdown",
   "metadata": {
    "id": "26gPV2kmsoRG"
   },
   "source": [
    "### <a name=\"lhdev\">Les hyperplans dans les espaces vectoriels</a>\n",
    "\n",
    "* Dans un espace vectoriel à $3$, l'hyperplan est un plan régulier. Dans un espace vectoriel à $2$  dimension, l'hyperplan est une ligne.\n",
    "* En général, l'hyperplan est un sous-espace qui a une dimension inférieure de $1$ à celle de l'espace vectoriel d'origine.\n",
    "* Un hyperplan est uniquement défini par son vecteur normal.\n",
    "* Le vecteur normal $n$ du plan $\\pi$ est le vecteur auquel tous les vecteurs du plan $\\pi$ sont orthogonaux (perpendiculaire dans le cas dimensionnel $3$).\n",
    "\n",
    "\n"
   ]
  },
  {
   "cell_type": "markdown",
   "metadata": {
    "id": "6oBWBeO79j26"
   },
   "source": [
    "### <a name=\"uhdev\">Utilisation des hyperplans pour diviser l'espace vectoriel</a>\n",
    "\n",
    "Nous pouvons utiliser un hyperplan pour diviser l'espace vectoriel en  $2$ parties:\n",
    "* Tous les vecteurs dont le produit des points avec le vecteur normal d'un plan est positif se trouvent sur un côté du plan.\n",
    "* Tous les vecteurs dont le produit des points avec le vecteur normal du plan est négatif se trouvent de l'autre côté du plan."
   ]
  },
  {
   "cell_type": "markdown",
   "metadata": {
    "id": "8HnrRm7msoRG"
   },
   "source": [
    "Les `matrices de rotation` dans $R^2$ font pivoter un vecteur donné $\\vec x$ d'un angle dans le sens anti-horaire $\\theta$ dans un système de coordonnées fixe. Les matrices de rotation sont de la forme :\n",
    "\n",
    "$$Ro = \\begin{bmatrix} cos \\theta & -sin \\theta \\\\\\\\\\ sin \\theta & cos \\theta \\end{bmatrix}$$\n",
    "\n",
    "\n",
    "Maintenant, traçons dans le même système notre vecteur $\\vec x = [1, 1]$ (il s'agit de P) et son produit matriciel avec la matrice\n",
    "$Ro$ pour un angle de 45°\n",
    "\n",
    "Vecteur rotatif\n",
    "\n",
    "$$y = x \\cdot Ro $$"
   ]
  },
  {
   "cell_type": "code",
   "execution_count": 61,
   "metadata": {
    "id": "wenYsKhosoRG",
    "outputId": "0e43275a-643f-4749-d674-8ff422eac44b"
   },
   "outputs": [
    {
     "name": "stdout",
     "output_type": "stream",
     "text": [
      "Matrice de Rotation\n",
      "[[ 0.70710678 -0.70710678]\n",
      " [ 0.70710678  0.70710678]]\n",
      "\n",
      "Vecteur rotatif\n",
      "[[1.41421356 0.        ]]\n",
      "\n",
      " nome x2 1.4142135623730951\n",
      "\n",
      " norme y2 1.4142135623730951\n",
      "\n",
      " norme de la matrice de Roation 1.4142135623730951\n"
     ]
    }
   ],
   "source": [
    "angle = 45 * (np.pi / 180) #convertir 45° en radians\n",
    "\n",
    "Ro = np.array([[np.cos(angle), -np.sin(angle)],\n",
    "              [np.sin(angle), np.cos(angle)]])\n",
    "\n",
    "x2 = np.array([1, 1]).reshape(1, -1) # le transformer en vecteur ligne\n",
    "y2 = np.dot(x2, Ro)\n",
    "\n",
    "print('Matrice de Rotation')\n",
    "print(Ro)\n",
    "print('\\nVecteur rotatif')\n",
    "print(y2)\n",
    "\n",
    "print('\\n nome x2', np.linalg.norm(x2))\n",
    "print('\\n norme y2', np.linalg.norm(y2))\n",
    "print('\\n norme de la matrice de Roation', np.linalg.norm(Ro))"
   ]
  },
  {
   "cell_type": "markdown",
   "metadata": {
    "id": "VMOSBn8YsoRG"
   },
   "source": [
    "* La norme du vecteur d'entrée est la même que la norme du vecteur de sortie. Les matrices de rotation ne modifient pas la norme du vecteur, mais seulement sa direction.\n",
    "* La norme de toute matrice de rotation de $R^2$ est toujours $\\sqrt 2 = 1.414221$."
   ]
  },
  {
   "cell_type": "code",
   "execution_count": 62,
   "metadata": {
    "id": "lQ56WwLssoRH",
    "outputId": "f4f80e00-6ad9-4656-a0f3-5996cfb00926"
   },
   "outputs": [
    {
     "data": {
      "image/png": "[encoded data removed]",
      "text/plain": [
       "<Figure size 432x288 with 1 Axes>"
      ]
     },
     "metadata": {
      "needs_background": "light"
     },
     "output_type": "display_data"
    }
   ],
   "source": [
    "plot_vectors([x2, y2], fname='transform_02.svg')"
   ]
  },
  {
   "cell_type": "markdown",
   "metadata": {
    "id": "0hSg8WLvsoRH"
   },
   "source": [
    "Deux vecteurs formant un angle de 45°"
   ]
  },
  {
   "cell_type": "markdown",
   "metadata": {
    "id": "ZDvG39MDsoRH"
   },
   "source": [
    "Dans notre cas nous voulons un angle de 90° pour tracer la ligne(l'hyperplan) qui sépare nos deux plans"
   ]
  },
  {
   "cell_type": "code",
   "execution_count": 63,
   "metadata": {
    "id": "CvFwUJM3soRI",
    "outputId": "48eb5a46-bf1f-4c13-841c-15d87c71ded6"
   },
   "outputs": [
    {
     "data": {
      "image/png": "[encoded data removed]",
      "text/plain": [
       "<Figure size 576x576 with 1 Axes>"
      ]
     },
     "metadata": {
      "needs_background": "light"
     },
     "output_type": "display_data"
    }
   ],
   "source": [
    "P = np.array([[1, 1]])  \n",
    "\n",
    "# Obtenir un nouveau plan perpendiculaire à P. Nous utilisons une matrice de rotation\n",
    "PT = np.dot([[0, 1], [-1, 0]], P.T).T  \n",
    "\n",
    "fig, ax1 = plt.subplots(figsize=(8, 8)) #la taille de la figure\n",
    "\n",
    "plot_vectors([P], colors=['b'], axes=[2, 2], ax=ax1) # Tracez le plan P comme un vecteur\n",
    "\n",
    "# Tracez le plan P comme 2 vecteurs. \n",
    "# On met à l'échelle par 2 juste pour que les flèches sortent de la boîte\n",
    "plot_vectors([PT * 4, PT * -4], colors=['k', 'k'], axes=[4, 4], ax=ax1)\n",
    "\n",
    "# Plot 20 random points. \n",
    "for i in range(0, 20):\n",
    "        v1 = np.array(np.random.uniform(-4, 4, 2)) # Obtenez une paire de nombres aléatoires entre -4 et 4 \n",
    "        side_of_plane = np.sign(np.dot(P, v1.T)) # Obtenir le signe du produit scalaire avec P\n",
    "        # Colorer les points en fonction du signe du résultat de np.dot(P, point.T)\n",
    "        if side_of_plane == 1:\n",
    "            ax1.plot([v1[0]], [v1[1]], 'bo') #  un point bleu\n",
    "        else:\n",
    "            ax1.plot([v1[0]], [v1[1]], 'ro') # un point rouge\n",
    "\n",
    "plt.show()\n"
   ]
  },
  {
   "cell_type": "markdown",
   "metadata": {
    "id": "UXpIqH_JsoRI"
   },
   "source": [
    "Maintenant si on choisis 3 points $v_1=[1,2],v_2=[-1,1]$ et $v_3=[-2,-1]$, comment savoir de quel coté du plan se trouve chaque point ? "
   ]
  },
  {
   "cell_type": "markdown",
   "metadata": {
    "id": "Ds9_zYzCsoRI"
   },
   "source": [
    "<img src=\"images/lsh1.png\" style=\"width:700px;height:400;\">\n",
    "\n"
   ]
  },
  {
   "cell_type": "markdown",
   "metadata": {
    "id": "CGlkVd-hsoRJ"
   },
   "source": [
    "Pour celà nous devons faire le produit scalaire de P et de chaque point on a : \n",
    "- $Pv_1^{T}=3$\n",
    "- $Pv_2^{T}=0$\n",
    "- $Pv_3^{T}=-3$"
   ]
  },
  {
   "cell_type": "code",
   "execution_count": 64,
   "metadata": {
    "id": "Ggl7_s1WsoRJ"
   },
   "outputs": [],
   "source": [
    "P = np.array([[1, 1]])      # plan unique\n",
    "v1 = np.array([[1, 2]])     \n",
    "v2 = np.array([[-1, 1]])    \n",
    "v3 = np.array([[-2, -1]])   \n"
   ]
  },
  {
   "cell_type": "code",
   "execution_count": 65,
   "metadata": {
    "id": "-Aex9aMTsoRK",
    "outputId": "3ab3e5ef-ac76-424f-a133-c2f654c61615"
   },
   "outputs": [
    {
     "data": {
      "text/plain": [
       "array([[3]])"
      ]
     },
     "execution_count": 65,
     "metadata": {},
     "output_type": "execute_result"
    }
   ],
   "source": [
    "np.dot(P, v1.T)"
   ]
  },
  {
   "cell_type": "code",
   "execution_count": 66,
   "metadata": {
    "id": "ffgL6fePsoRK",
    "outputId": "f2812e06-3697-471f-8086-82bb481d8e5b"
   },
   "outputs": [
    {
     "data": {
      "text/plain": [
       "array([[0]])"
      ]
     },
     "execution_count": 66,
     "metadata": {},
     "output_type": "execute_result"
    }
   ],
   "source": [
    "np.dot(P, v2.T)"
   ]
  },
  {
   "cell_type": "code",
   "execution_count": 67,
   "metadata": {
    "id": "WszRQUoqsoRL",
    "outputId": "467bc433-9ad2-4d3f-ed4b-d725ed3b1de6"
   },
   "outputs": [
    {
     "data": {
      "text/plain": [
       "array([[-3]])"
      ]
     },
     "execution_count": 67,
     "metadata": {},
     "output_type": "execute_result"
    }
   ],
   "source": [
    "np.dot(P, v3.T)"
   ]
  },
  {
   "cell_type": "markdown",
   "metadata": {
    "id": "TULoQhANsoRM"
   },
   "source": [
    "Comme on l'a vu précédement avec l'Hyperplan:\n",
    "\n",
    "- Si le signe du produit scalaire entre P et un point v est positif alors ce point se trouve dans le plan de droite (points bleus ), la valeur de hashage vaudra 1, **1 car il se trouve du meme coté que le vecteur normal P.**\n",
    "- Si le signe du produit scalaire entre P et un point v est positif et négatif alors ce point se trouve sur la droite perpendiculaie au vecteur P,  la valeur de hashage vaudra 0, **il se trouve sur l'hyperplan.**\n",
    "- Si le signe du produit scalaire entre P et un point v est négatif alors ce point se trouve dans le plan de gauche (points rouges ), la valeur de hashage vaudra -1, **-1 car il se trouve du coté opposé au vecteur normal P.**"
   ]
  },
  {
   "cell_type": "markdown",
   "metadata": {
    "id": "JkRx4qtosoRM"
   },
   "source": [
    "<a name='slide'></a>\n",
    "La fonction `side_of_plane()` ci-dessous vérifie de quel côté du plan P se trouve le vecteur `v`."
   ]
  },
  {
   "cell_type": "code",
   "execution_count": 68,
   "metadata": {
    "id": "0-kU_lqOsoRN"
   },
   "outputs": [],
   "source": [
    "def side_of_plane(P, v):\n",
    "    dotproduct = np.dot(P, v.T) # Get the dot product P * v'\n",
    "    sign_of_dot_product = np.sign(dotproduct) # The sign of the elements of the dotproduct matrix \n",
    "    sign_of_dot_product_scalar = sign_of_dot_product.item() # The value of the first item\n",
    "    return sign_of_dot_product_scalar"
   ]
  },
  {
   "cell_type": "code",
   "execution_count": 69,
   "metadata": {
    "id": "If6GlpBOsoRN",
    "outputId": "c58268a0-4d6e-445c-c26f-6c9d2d622067"
   },
   "outputs": [
    {
     "data": {
      "text/plain": [
       "1"
      ]
     },
     "execution_count": 69,
     "metadata": {},
     "output_type": "execute_result"
    }
   ],
   "source": [
    "side_of_plane(P, v1) # Dans quel coté se trouve [1, 2] ?"
   ]
  },
  {
   "cell_type": "code",
   "execution_count": 70,
   "metadata": {
    "id": "VqbirPZksoRO",
    "outputId": "4cc51d81-9a1d-47b5-d000-b9d9194534f2"
   },
   "outputs": [
    {
     "data": {
      "text/plain": [
       "0"
      ]
     },
     "execution_count": 70,
     "metadata": {},
     "output_type": "execute_result"
    }
   ],
   "source": [
    "side_of_plane(P, v2) # et [-1, 1]"
   ]
  },
  {
   "cell_type": "code",
   "execution_count": 71,
   "metadata": {
    "id": "npfqSbFasoRP",
    "outputId": "01b5a038-0db7-42d7-a945-9b444b474a6b"
   },
   "outputs": [
    {
     "data": {
      "text/plain": [
       "-1"
      ]
     },
     "execution_count": 71,
     "metadata": {},
     "output_type": "execute_result"
    }
   ],
   "source": [
    "side_of_plane(P, v3) # et [-2, -1]"
   ]
  },
  {
   "cell_type": "markdown",
   "metadata": {
    "id": "UDY7Unh1soRP"
   },
   "source": [
    "## <a name=\"vhpp\">Valeur de hachage avec plusieurs plans</a>"
   ]
  },
  {
   "cell_type": "markdown",
   "metadata": {
    "id": "WkXt93vXsoRQ"
   },
   "source": [
    "Lorsque l'on a plusieurs plan comment trouver le coté d'un point v pour chacun des plans $P_1, P_2$ et $P_3$? "
   ]
  },
  {
   "cell_type": "markdown",
   "metadata": {
    "id": "oCQ2flbrsoRQ"
   },
   "source": [
    "<img src=\"images/multip.png\" style=\"width:700px;height:400;\">\n"
   ]
  },
  {
   "cell_type": "markdown",
   "metadata": {
    "id": "_Z0W6IqksoRR"
   },
   "source": [
    "On considère 3 plans définit par $P_1=[1,1], P_2=[-1,1]$ et $P_3=[-1,-1]$ et le vecteur $v=[2,2]$."
   ]
  },
  {
   "cell_type": "markdown",
   "metadata": {
    "id": "iXpaEwhksoRR"
   },
   "source": [
    "On souhaiterais avoir une seul valeur de hachage pour les combiner\n",
    "\n",
    "Pour chaque plan $P_i$ et le vecteur $v$ \n",
    "\n",
    "on définit $sign_i$ tel que :\n",
    "- $sign_i=sign(P_iv^{T}) $\n",
    "\n",
    "et $h_i$ tel que : \n",
    "- $sign_i \\geq 0 \\Rightarrow h_i=1$\n",
    "- $sign_i < 0 \\Rightarrow h_i=0$\n",
    "\n",
    "On définit alors la valeur de hachage sensible à la localité par : \n",
    "$$ hash = \\sum_{i=0}^{N-1} \\left( 2^{i} \\times h_{i} \\right) $$ avec N le nombre de plans\n",
    "\n",
    "Dans notre cas: \n",
    " \n",
    "- $P_1v^t=3, sign_1=+1, h_1=1$\n",
    "- $P_2v^t=5, sign_2=+1, h_2=1$\n",
    "- $P_3v^t=-2, sign_3=-1, h_3=0$\n",
    "- $hash = 2^0h_1+2^1h_2+2^2h_3$= 1x1+2x1+4x0=3\n",
    "\n"
   ]
  },
  {
   "cell_type": "markdown",
   "metadata": {
    "id": "JmGkOgYasoRS"
   },
   "source": [
    "Implémentons celà avec la fonction suivante crée une valeur de hachage basée sur un ensemble de plans. **La valeur de sortie est une combinaison du côté du plan où le vecteur est localisé par rapport à l'ensemble des plans.**"
   ]
  },
  {
   "cell_type": "code",
   "execution_count": 72,
   "metadata": {
    "id": "Gq82DKMosoRS"
   },
   "outputs": [],
   "source": [
    "P1 = np.array([[1, 1]])   # Premier plan\n",
    "P2 = np.array([[-1, 1]])  \n",
    "P3 = np.array([[-1, -1]]) \n",
    "P_l = [P1, P2, P3]  # Liste de vecteur. c'est le multiplan\n",
    "\n",
    "# Vecteur à rechercher\n",
    "v = np.array([[2, 2]])"
   ]
  },
  {
   "cell_type": "code",
   "execution_count": 73,
   "metadata": {
    "id": "WrT-vhc6soRS",
    "outputId": "511d980c-a885-48e7-856e-f285ad9a8e42"
   },
   "outputs": [
    {
     "data": {
      "text/plain": [
       "[array([[1, 1]]), array([[-1,  1]]), array([[-1, -1]])]"
      ]
     },
     "execution_count": 73,
     "metadata": {},
     "output_type": "execute_result"
    }
   ],
   "source": [
    "P_l"
   ]
  },
  {
   "cell_type": "markdown",
   "metadata": {
    "id": "eFQr0GyWsoRT"
   },
   "source": [
    "<a name='hsmp'></a>\n",
    "La fonction `hash_multi_plane()`suivante crée une valeur de hachage basée sur un ensemble de plans. La valeur de sortie est une combinaison du côté du plan où le vecteur est localisé par rapport à l'ensemble des plans.\n",
    "\n",
    "Nous pouvons considérer cette liste de plans comme un ensemble de fonctions de hachage de base, chacune d'entre elles ne pouvant produire que 1 ou 0 en sortie."
   ]
  },
  {
   "cell_type": "code",
   "execution_count": 74,
   "metadata": {
    "id": "dTPnfpilsoRT"
   },
   "outputs": [],
   "source": [
    "def hash_multi_plane(P_l, v):\n",
    "    hash_value = 0\n",
    "    for i, P in enumerate(P_l): # i:P , 0:[[1 1]], 1:[[-1  1]],2:[[-1 -1]]\n",
    "        sign = side_of_plane(P,v)  # on utilise notre fonction précédente\n",
    "        hash_i = 1 if sign >=0 else 0\n",
    "        hash_value += 2**i * hash_i\n",
    "    return hash_value"
   ]
  },
  {
   "cell_type": "code",
   "execution_count": 75,
   "metadata": {
    "id": "pCX1xihAsoRT",
    "outputId": "bcf07983-dd2b-4a93-fb69-ce6d9e267d24"
   },
   "outputs": [
    {
     "data": {
      "text/plain": [
       "3"
      ]
     },
     "execution_count": 75,
     "metadata": {},
     "output_type": "execute_result"
    }
   ],
   "source": [
    "hash_multi_plane(P_l, v) # Trouvez le numéro du plan qui contient cette valeur"
   ]
  },
  {
   "cell_type": "markdown",
   "metadata": {
    "id": "zR5cGJncsoRT"
   },
   "source": [
    "## <a name=\"pa\">Plans aléatoires</a>\n",
    "\n",
    "\n",
    "Dans la cellule ci-dessous, nous créons un ensemble de trois plans aléatoires"
   ]
  },
  {
   "cell_type": "code",
   "execution_count": 76,
   "metadata": {
    "id": "wjrhf46LsoRU",
    "outputId": "3aebede9-d99e-4754-d6f8-86be75ca851f"
   },
   "outputs": [
    {
     "name": "stdout",
     "output_type": "stream",
     "text": [
      "[[ 1.76405235  0.40015721]\n",
      " [ 0.97873798  2.2408932 ]\n",
      " [ 1.86755799 -0.97727788]]\n"
     ]
    }
   ],
   "source": [
    "np.random.seed(0)\n",
    "num_dimensions = 2 # is 300 in assignment\n",
    "num_planes = 3 # is 10 in assignment\n",
    "random_planes_matrix = np.random.normal(  # loi normal \n",
    "                       size=(num_planes,\n",
    "                             num_dimensions))\n",
    "print(random_planes_matrix)"
   ]
  },
  {
   "cell_type": "markdown",
   "metadata": {
    "id": "CP-n2WdSsoRU"
   },
   "source": [
    "On choisit un vecteur v=[2,2]"
   ]
  },
  {
   "cell_type": "code",
   "execution_count": 77,
   "metadata": {
    "id": "nTW1whGisoRU"
   },
   "outputs": [],
   "source": [
    "v = np.array([[2, 2]])"
   ]
  },
  {
   "cell_type": "markdown",
   "metadata": {
    "id": "zJJY7nINsoRV"
   },
   "source": [
    "La fonction suivante est similaire à la fonction [`side_of_plane()`](#slide), mais elle évalue plus qu'un plan à chaque fois. Le résultat est un tableau avec le côté du plan de `v`, pour l'ensemble des plans `P`."
   ]
  },
  {
   "cell_type": "code",
   "execution_count": 78,
   "metadata": {
    "id": "N1n5phmjsoRW"
   },
   "outputs": [],
   "source": [
    "# Side of the plane function. The result is a matrix\n",
    "def side_of_plane_matrix(P, v):\n",
    "    dotproduct = np.dot(P, v.T)\n",
    "    sign_of_dot_product = np.sign(dotproduct) # Get a boolean value telling if the value in the cell is positive or negative\n",
    "    return sign_of_dot_product"
   ]
  },
  {
   "cell_type": "markdown",
   "metadata": {
    "id": "_AUP8iZ8soRW"
   },
   "source": [
    "Obtenir le côté du plan du vecteur `[2, 2]` pour l'ensemble des plans aléatoires. "
   ]
  },
  {
   "cell_type": "code",
   "execution_count": 79,
   "metadata": {
    "id": "AD9KqdJcsoRW",
    "outputId": "e0091415-1daf-4fcf-f033-3a9aaeb4b6cd"
   },
   "outputs": [
    {
     "data": {
      "text/plain": [
       "array([[1.],\n",
       "       [1.],\n",
       "       [1.]])"
      ]
     },
     "execution_count": 79,
     "metadata": {},
     "output_type": "execute_result"
    }
   ],
   "source": [
    "sides_l = side_of_plane_matrix(\n",
    "            random_planes_matrix, v)\n",
    "sides_l"
   ]
  },
  {
   "cell_type": "markdown",
   "metadata": {
    "id": "tibmqPQWsoRX"
   },
   "source": [
    "coté 1 de chaque plan "
   ]
  },
  {
   "cell_type": "markdown",
   "metadata": {
    "id": "TOp9drPGsoRX"
   },
   "source": [
    "Maintenant, utilisons la première fonction  [`hash_multi_plane()`](#hsmp) pour définir notre fonction `hash_multi_plane_matrix()` de hachage multiplan"
   ]
  },
  {
   "cell_type": "code",
   "execution_count": 80,
   "metadata": {
    "id": "0KPTqgVysoRX"
   },
   "outputs": [],
   "source": [
    "def hash_multi_plane_matrix(P, v, num_planes):\n",
    "    sides_matrix = side_of_plane_matrix(P, v) # Obtenir le côté des plans pour P et v\n",
    "    hash_value = 0\n",
    "    for i in range(num_planes):\n",
    "        sign = sides_matrix[i].item() # Obtenir la valeur à l'intérieur de la cellule de la matrice\n",
    "        hash_i = 1 if sign >=0 else 0\n",
    "        hash_value += 2**i * hash_i # somme de 2^i * hash_i\n",
    "        \n",
    "    return hash_value"
   ]
  },
  {
   "cell_type": "markdown",
   "metadata": {
    "id": "688L-clisoRY"
   },
   "source": [
    "Affichage du seau de hachage pour le vecteur `v = [2, 2]`. "
   ]
  },
  {
   "cell_type": "code",
   "execution_count": 81,
   "metadata": {
    "id": "34Frt8MPsoRY",
    "outputId": "f8516113-1d4f-4f86-b791-558282984339"
   },
   "outputs": [
    {
     "data": {
      "text/plain": [
       "7"
      ]
     },
     "execution_count": 81,
     "metadata": {},
     "output_type": "execute_result"
    }
   ],
   "source": [
    "hash_multi_plane_matrix(random_planes_matrix, v, num_planes)"
   ]
  },
  {
   "cell_type": "markdown",
   "metadata": {
    "id": "rm6CffRBsoRZ"
   },
   "source": [
    "\n",
    "Cela vous a montré comment faire une série de plan  au hasard.  Nous ferons plusieurs séries d'avions aléatoires afin de rendre les voisins les plus proches plus précis."
   ]
  },
  {
   "cell_type": "markdown",
   "metadata": {
    "id": "IHo0w3fbsoRZ"
   },
   "source": [
    "## <a name=\"ttpsh\">Trouver les tweets les plus similaires avec le HSL</a>\n",
    "\n",
    "On va maintenant mettre en œuvre le hachage sensible à la localité (HSL) pour identifier le [tweet](#idt) le plus similaire.\n",
    "* Au lieu de regarder les 10 000 vecteurs, nous pouvons simplement rechercher un sous-ensemble pour trouver\n",
    "ses voisins les plus proches.\n",
    "\n",
    "Disons que vos points de données sont tracés comme ceci :\n",
    "\n",
    "\n",
    "<div style=\"width:image width px ; font-size:100% ; text-align:center ;\"><img src='images/one.png' alt=\"alternate text\" width=\"width\" height=\"height\" style=\"width:400px;height:200px ;\" /> </div>\n",
    "\n",
    "Nous pouvons diviser l'espace vectoriel en régions et rechercher dans une région les voisins les plus proches d'un vecteur donné.\n",
    "\n",
    "<div style=\"width:image width px ; font-size:100% ; text-align:center ;\"><img src='images/four.png' alt=\"alternate text\" width=\"width\" height=\"height\" style=\"width:400px;height:200px ;\" /> </div>"
   ]
  },
  {
   "cell_type": "code",
   "execution_count": 82,
   "metadata": {
    "id": "tsZS9tY2soRZ",
    "outputId": "3a16337a-6fae-43a3-8f2d-b0d7c955c258"
   },
   "outputs": [
    {
     "name": "stdout",
     "output_type": "stream",
     "text": [
      "Le nombre de vecteurs est de 10000 et chacun a une dimensions de 300 .\n"
     ]
    }
   ],
   "source": [
    "N_VECS = len(all_tweets)       \n",
    "N_DIMS = len(ind2Tweet[1])  \n",
    "print(f\"Le nombre de vecteurs est de {N_VECS} et chacun a une dimensions de {N_DIMS} .\")"
   ]
  },
  {
   "cell_type": "markdown",
   "metadata": {
    "id": "koPpV2uNsoRa"
   },
   "source": [
    "### <a name=\"cnp\">Choisir le nombre de plans</a>\n",
    "\n",
    "* Chaque plan divise l'espace en 2 seaux .\n",
    "* Donc les $n$ plans  divisent l'espace en seaux de hachage à $2^{n} parties$.\n",
    "* Nous voulons organiser 10 000 vecteurs de documents (tweets) dans des seaux, de sorte que chaque seaux contiennent environ 16 vecteurs.\n",
    "* Pour cela, nous avons besoin de $\\frac{10000}{16}=625$ seaux.\n",
    "* Nous sommes intéressés par $n$, nombre de plans, donc $2^{n}=625$. Maintenant, nous pouvons calculer $n=\\log_{2}625 = 9,29 \\approx 10$."
   ]
  },
  {
   "cell_type": "code",
   "execution_count": 83,
   "metadata": {
    "id": "LAe5AXcnsoRa"
   },
   "outputs": [],
   "source": [
    "# Le nombre de plans. Nous utilisons log2(625) pour avoir ~16 vecteurs/seau.\n",
    "N_PLANES = 10\n",
    "# Nombre de fois où il faut répéter le hachage pour améliorer la recherche.\n",
    "N_UNIVERSES = 25"
   ]
  },
  {
   "cell_type": "markdown",
   "metadata": {
    "id": "uHgM7q2bsoRa"
   },
   "source": [
    "### <a name=\"ovhv\">Obtenir la valeur de hachage d'un vecteur</a>\n",
    "\n",
    "Pour chaque vecteur, nous devons obtenir un numéro unique associé à ce vecteur afin de l'attribuer à un \"seau de hachage\".\n",
    "\n",
    " On va créer des séries de plans aléatoires:`planes_l` \n",
    "* Créons  plusieurs ensembles(25) de plans (les plans qui divisent la région).\n",
    "* Nous pouvons considérer qu'il y a 25 façons différentes de diviser l'espace vectoriel avec un ensemble de plans différent.\n",
    "* Chaque élément de cette liste contient une matrice de 300 lignes ( dimensions de 300 ) et 10 colonnes (il y a 10 plans dans chaque \"univers\")"
   ]
  },
  {
   "cell_type": "code",
   "execution_count": 84,
   "metadata": {
    "id": "5beNbCXlsoRb"
   },
   "outputs": [],
   "source": [
    "np.random.seed(0)\n",
    "planes_l = [np.random.normal(size=(N_DIMS, N_PLANES))\n",
    "            for _ in range(N_UNIVERSES)]"
   ]
  },
  {
   "cell_type": "markdown",
   "metadata": {
    "id": "KCAL61QosoRb"
   },
   "source": [
    "On va implémenter la fonction `hash_value_of_vector` qui contrairement à [`hash_multi_plane()`](#hsmp) définit h comme un vecteur remplit de 0 ou 1 et qui place le vecteur `v` dans le bon seau de hachage .\n",
    "\n",
    "* On multipliera d'abord notre vecteur `v`, par un plan correspondant. Cela vous donnera un vecteur de dimension $(1,\\text{N_plans})$.\n",
    "* On convertira ensuite chaque élément de ce vecteur en 0 ou 1.\n",
    "* Puis nous créerons un vecteur de hachage h en faisant ce qui suit : si l'élément $h[i]$ est négatif, il devient un 0, sinon nous le changeons en un 1.\n",
    "* On calcule ensuite le nombre unique (valeur de hachage) pour le vecteur par itération sur `N_PLANES`.\n",
    "* Ensuite, on multiolie $2^i$ par le $h[i]$ correspondant (0 ou 1).\n",
    "* On va  ensuite stocker cette somme dans la variable `hash_value`.\n",
    "\n",
    ".\n",
    "On utilisera cette formule :\n",
    "\n",
    "$$ hash = \\sum_{i=0}^{N-1} \\left( 2^{i} \\times h_{i} \\right) $$"
   ]
  },
  {
   "cell_type": "code",
   "execution_count": 85,
   "metadata": {
    "id": "V3wUHsUSsoRb"
   },
   "outputs": [],
   "source": [
    "def hash_value_of_vector(v, planes):\n",
    "    \"\"\"Créer un hash pour un vecteur ; hash_id indique quel hash aléatoire utiliser.\n",
    "    Entrée :\n",
    "        - v : vecteur de tweet. Sa dimension est (1, N_DIMS)\n",
    "        - planes : matrice de dimension (N_DIMS, N_PLANES) - l'ensemble des plans qui divisent la région\n",
    "    Sortie :\n",
    "        - hash_value : un numéro qui est utilisé comme hachage pour votre vecteur\n",
    "\n",
    "    \"\"\"\n",
    "   \n",
    "    # pour la série de plans,\n",
    "    # calculer le produit du point entre le vecteur et la matrice contenant les plans\n",
    "    # se rappeler que les plans ont une taille (300, 10)\n",
    "    # Le produit scalaire aura une taille (1,10)\n",
    "    dot_product = np.dot(v,planes)\n",
    "\n",
    "    # obtenir le signe du produit scalaire\n",
    "    sign_of_dot_product = np.sign(dot_product)\n",
    "\n",
    "    # mettre h à faux (équivalent à 0 lorsqu'il est utilisé dans les opérations) si le signe est négatif,\n",
    "    # et vrai (équivalent à 1) si le signe est positif \n",
    "    h = sign_of_dot_product>=0\n",
    "\n",
    "    # supprimer les dimensions inutilisées supplémentaires (convertir ce tableau de 2D en tableau de 1D)\n",
    "    h = np.squeeze(h)\n",
    "\n",
    "   # initialiser la valeur de hachage à 0\n",
    "    hash_value = 0\n",
    "\n",
    "    n_planes = planes.shape[1]\n",
    "    for i in range(n_planes):\n",
    "        # augmenter la valeur de hachage de 2^i * h_i\n",
    "        hash_value += np.power(2,i)*h[i]\n",
    "\n",
    "    # utiliser hash_value comme un entier\n",
    "    hash_value = int(hash_value)\n",
    "\n",
    "    return hash_value\n"
   ]
  },
  {
   "cell_type": "code",
   "execution_count": 86,
   "metadata": {
    "id": "4wjikVpqsoRc",
    "outputId": "509c0607-f3b6-4760-da90-461923bdd9b1"
   },
   "outputs": [
    {
     "name": "stdout",
     "output_type": "stream",
     "text": [
      " La valeur de hachage pour ce vecteur, et l'ensemble des plans à l'index 0, est 768\n"
     ]
    }
   ],
   "source": [
    "\n",
    "np.random.seed(0)\n",
    "idx = 0\n",
    "planes = planes_l[idx]  # obtenir un \"univers\" de plan pour tester la fonction\n",
    "vec = np.random.rand(1, 300)\n",
    "print(f\" La valeur de hachage pour ce vecteur,\",\n",
    "      f\"et l'ensemble des plans à l'index {idx},\",\n",
    "      f\"est {hash_value_of_vector(vec, planes)}\")"
   ]
  },
  {
   "cell_type": "markdown",
   "metadata": {
    "id": "Kz46BJKBsoRc"
   },
   "source": [
    "### <a name=\"cth\">Création d'une table de hachage</a>\n",
    "\n",
    "Étant donné que nous avons un numéro unique pour chaque vecteur (ou tweet), nous voulons maintenant créer une table de hachage. Nous avons besoin d'une table de hachage, de sorte que, étant donné un hash_id, nous puissions rapidement rechercher les vecteurs correspondants. Cela nous permet de réduire considérablement le temps de recherche.\n",
    "\n",
    "<div style=\"width:image width px ; font-size:100% ; text-align:center ;\"><img src='images/table.png' alt=\"alternate text\" width=\"width\" height=\"height\" style=\"width:500px;height:200px ;\" /> </div>\n",
    "\n",
    "Nous avons la fonction `make_hash_table`, qui fait correspondre les vecteurs de tweet à un seau et y stocke le vecteur. Elle renvoie la `hash_table` et la `id_table`. L'\"id_table\" nous permet de savoir quel vecteur dans une certaine zone correspond à quel tweet."
   ]
  },
  {
   "cell_type": "code",
   "execution_count": 87,
   "metadata": {
    "id": "kTclAq94soRc"
   },
   "outputs": [],
   "source": [
    "def make_hash_table(vecs, planes):\n",
    "    \"\"\"\n",
    "    Entrée :\n",
    "        - vecs : liste des vecteurs à hacher.\n",
    "        - planes : la matrice des plans d'un \"univers\" unique, avec la forme (dimensions d'embeddings, nombre de plans).\n",
    "    Sortie :\n",
    "        - hash_table : dictionnaire - les clés sont des hachages, les valeurs sont des listes de vecteurs (seau de hachage)\n",
    "        - id_table : dictionnaire - les clés sont des hachages, les valeurs sont des listes de vecteurs id\n",
    "                            (il permet de savoir quel tweet correspond au vecteur haché)\n",
    "    \"\"\"\n",
    "\n",
    "    # le nombre de plans est le nombre de colonnes dans la matrice des plans\n",
    "    num_of_planes = planes.shape[1]\n",
    "\n",
    "    # le nombre de seaux est de 2^(nombre d'avions)\n",
    "    num_buckets = 2**num_of_planes\n",
    "\n",
    "    # créer la table de hachage comme un dictionnaire.\n",
    "    # Les clés sont des entiers (0,1,2.. nombre de seaux)\n",
    "    # Les valeurs sont des listes vides\n",
    "    hash_table = {i :[] for i in range(num_buckets)}\n",
    "\n",
    "    # créer la table d'identification comme un dictionnaire.\n",
    "    # Les clés sont des entiers (0,1,2... nombre de seaux)\n",
    "    # Les valeurs sont des listes vides\n",
    "    id_table = {i:[] for i in range(num_buckets)}\n",
    "\n",
    "    # pour chaque vecteur dans les \"vecs\".\n",
    "    for i, v in enumerate(vecs):\n",
    "        # calculer la valeur de hachage pour le vecteur\n",
    "        h = hash_value_of_vector(v,planes)\n",
    "\n",
    "        # stocker le vecteur dans hash_table à la clé h,\n",
    "        # en ajoutant le vecteur v à la liste à la touche h\n",
    "        hash_table[h].append(v)\n",
    "\n",
    "        # stocker l'index 'i' du vecteur (chaque document reçoit un entier unique 0,1,2...)\n",
    "        # la clé est le h, et le 'i' est ajouté à la liste à la clé h\n",
    "        id_table[h].append(i)\n",
    "\n",
    "    return hash_table, id_table\n"
   ]
  },
  {
   "cell_type": "code",
   "execution_count": 88,
   "metadata": {
    "id": "9zCt9SvFsoRd",
    "outputId": "3f63b3c7-f859-47e6-a30d-bd5a51f3ec68"
   },
   "outputs": [
    {
     "name": "stdout",
     "output_type": "stream",
     "text": [
      "La table de hachage à la clé 0 a 3 vecteurs de documents\n",
      "La table d'identification à la clé 0 a 3\n",
      "Les 5 premiers index de documents stockés à la clé 0  sont [3276, 3281, 3282]\n"
     ]
    }
   ],
   "source": [
    "np.random.seed(0)\n",
    "planes = planes_l[0]  # obtenir un \"univers\" de plans pour tester la fonction\n",
    "vec = np.random.rand(1, 300)\n",
    "tmp_hash_table, tmp_id_table = make_hash_table(document_vecs, planes)\n",
    "\n",
    "print(f\"La table de hachage à la clé 0 a {len(tmp_hash_table[0])} vecteurs de documents\")\n",
    "print(f\"La table d'identification à la clé 0 a {len(tmp_id_table[0])}\")\n",
    "print(f\"Les 5 premiers index de documents stockés à la clé 0  sont {tmp_id_table[0][0:5]}\")"
   ]
  },
  {
   "cell_type": "markdown",
   "metadata": {
    "id": "Xj45VZAFsoRd"
   },
   "source": [
    "### <a name=\"ctth\">Création de toutes les tables de hachage</a>\n",
    "\n",
    "Nous pouvons maintenant hacher nos vecteurs et les stocker dans une table de hachage qui\n",
    "nous permettrait de rechercher rapidement des vecteurs similaires.\n",
    "Lançons la cellule ci-dessous pour créer les hachages. En faisant cela, nous finissons par avoir\n",
    "plusieurs tables qui ont tous les vecteurs. Étant donné un vecteur, vous\n",
    "identifier les seaux de toutes les tables.  Nous pouvons ensuite itérer sur le\n",
    "seaux et envisager beaucoup moins de vecteurs. Plus nous utilisons de seaux, plus notre recherche sera précise, mais aussi plus elle prendra de temps."
   ]
  },
  {
   "cell_type": "code",
   "execution_count": 89,
   "metadata": {
    "id": "EsdyLQG_soRd",
    "outputId": "6a3a121b-bd14-4a7a-9341-f43ca2bad5d6"
   },
   "outputs": [
    {
     "name": "stdout",
     "output_type": "stream",
     "text": [
      "travaillant sur le hash universe # : 0\n",
      "travaillant sur le hash universe # : 1\n",
      "travaillant sur le hash universe # : 2\n",
      "travaillant sur le hash universe # : 3\n",
      "travaillant sur le hash universe # : 4\n",
      "travaillant sur le hash universe # : 5\n",
      "travaillant sur le hash universe # : 6\n",
      "travaillant sur le hash universe # : 7\n",
      "travaillant sur le hash universe # : 8\n",
      "travaillant sur le hash universe # : 9\n",
      "travaillant sur le hash universe # : 10\n",
      "travaillant sur le hash universe # : 11\n",
      "travaillant sur le hash universe # : 12\n",
      "travaillant sur le hash universe # : 13\n",
      "travaillant sur le hash universe # : 14\n",
      "travaillant sur le hash universe # : 15\n",
      "travaillant sur le hash universe # : 16\n",
      "travaillant sur le hash universe # : 17\n",
      "travaillant sur le hash universe # : 18\n",
      "travaillant sur le hash universe # : 19\n",
      "travaillant sur le hash universe # : 20\n",
      "travaillant sur le hash universe # : 21\n",
      "travaillant sur le hash universe # : 22\n",
      "travaillant sur le hash universe # : 23\n",
      "travaillant sur le hash universe # : 24\n"
     ]
    }
   ],
   "source": [
    "# Creating the hashtables\n",
    "hash_tables = []\n",
    "id_tables = []\n",
    "for universe_id in range(N_UNIVERSES):  # il y a 25 hachages\n",
    "    print('travaillant sur le hash universe # :', universe_id)\n",
    "    planes = planes_l[universe_id]\n",
    "    hash_table, id_table = make_hash_table(document_vecs, planes)\n",
    "    hash_tables.append(hash_table)\n",
    "    id_tables.append(id_table)"
   ]
  },
  {
   "cell_type": "markdown",
   "metadata": {
    "id": "ybtPbw_EeFDJ"
   },
   "source": [
    "### <a name=\"akuh\">Avec KNN en utilisant HSL</a>\n"
   ]
  },
  {
   "cell_type": "markdown",
   "metadata": {
    "id": "Py7isu8qsoRe"
   },
   "source": [
    "Mettons en place les K plus proches voisins en utilisant le hachage sensible à la localité,\n",
    "pour rechercher des documents similaires (ici nos tweets) à un document donné à\n",
    "l'index `doc_id`.\n",
    "\n",
    "Entrées:\n",
    "* `doc_id` est l'index dans la liste des documents `all_tweets`.\n",
    "* `v` est le vecteur de document pour le tweet dans `all_tweets` à l'index `doc_id`.\n",
    "* `planes_l` est la liste des plans (la variable globale créée précédemment).\n",
    "* `k` est le nombre de voisins les plus proches à rechercher.\n",
    "* `num_universes_to_use` : pour gagner du temps, on peut utiliser moins que le total\n",
    "nombre d'univers disponibles.  Par défaut, il est fixé à `N_UNIVERSES`,\n",
    "qui est de $25$ ici.\n",
    "\n",
    "La fonction `approximate_knn` trouve un sous-ensemble de vecteurs candidats qui\n",
    "se trouvent dans le même \"seau de hachage\" que le vecteur d'entrée \"v\".  Ensuite, il effectue\n",
    "les k plus proches voisins qui recherchent habituellement sur ce sous-ensemble (au lieu de rechercher\n",
    "à travers les 10 000 tweets)."
   ]
  },
  {
   "cell_type": "code",
   "execution_count": 90,
   "metadata": {
    "id": "Ff85lD6esoRe"
   },
   "outputs": [],
   "source": [
    "def approximate_knn(doc_id, v, planes_l, k=1, num_universes_to_use=N_UNIVERSES):\n",
    "    \"\"\"Recherche de k-NN à l'aide de hachages.\"\"\"\n",
    "    assert num_universes_to_use <= N_UNIVERSES\n",
    "\n",
    "    # Vecteurs qui seront contrôlés en tant que voisin le plus proche possible\n",
    "    vecs_to_consider_l = list()\n",
    "\n",
    "    # liste des documents d'identité\n",
    "    ids_to_consider_l = list()\n",
    "\n",
    "    # créer un ensemble d'identifiants à prendre en compte, pour vérifier plus rapidement si un identifiant de document existe déjà dans l'ensemble\n",
    "    ids_to_consider_set = set()\n",
    "\n",
    "    # boucle à travers les univers des plans\n",
    "    for universe_id in range(num_universes_to_use):\n",
    "\n",
    "        # obtenir l'ensemble des plans de la liste planes_l, pour cet universe_id particulier\n",
    "        planes = planes_l[universe_id]\n",
    "\n",
    "         # obtenir la valeur de hachage du vecteur pour cet ensemble dde plans \n",
    "        hash_value = hash_value_of_vector(v, planes)\n",
    "\n",
    "        # obtenir la table de hachage pour cet univers_id particulier\n",
    "        hash_table = hash_tables[universe_id]\n",
    "\n",
    "        # obtenir la liste des vecteurs de documents pour cette table de hachage, où la clé est la hash_value\n",
    "        document_vectors_l = hash_table[hash_value]\n",
    "\n",
    "        # obtenir l'id_table pour cet univers_id particulier\n",
    "        id_table = id_tables[universe_id]\n",
    "\n",
    "        # obtenir le sous-ensemble de documents à considérer comme les plus proches voisins à partir de ce dictionnaire id_table\n",
    "        new_ids_to_consider = id_table[hash_value]\n",
    "\n",
    "         # supprimer l'identifiant du document que nous recherchons\n",
    "        if doc_id in new_ids_to_consider:\n",
    "            new_ids_to_consider.remove(doc_id)\n",
    "            print(f\"suppréssion du doc_id {doc_id} du vecteur d'entrée de new_ids_to_search\")\n",
    "\n",
    "         # boucler sur le sous-ensemble des vecteurs de documents à prendre en compte\n",
    "        for i, new_id in enumerate(new_ids_to_consider):\n",
    "\n",
    "             # si l'ID du document n'est pas encore dans l'ensemble ids_to_consider...\n",
    "            if new_id not in ids_to_consider_set:\n",
    "                 # accéder à la liste document_vectors_l à l'index i pour obtenir l'intégration\n",
    "                # puis l'ajouter à la liste des vecteurs à considérer comme de possibles voisins proches\n",
    "                document_vector_at_i = document_vectors_l[i]\n",
    "\n",
    "                # ajouter le new_id (l'index du document) à la liste des ids à prendre en compte\n",
    "                vecs_to_consider_l.append(document_vector_at_i)\n",
    "                ids_to_consider_l.append(new_id)\n",
    "\n",
    "                 # ajoutez également le new_id à l'ensemble des ids à prendre en compte\n",
    "                # (utilisez ceci pour vérifier si le new_id n'est pas déjà dans les ID à prendre en compte)\n",
    "                ids_to_consider_set.add(new_id)\n",
    "\n",
    "    # Maintenant, lancez k-NN sur le plus petit ensemble de vecs-à-considérer.\n",
    "    print(\"Une réflexion rapide %d vecs\" % len(vecs_to_consider_l))\n",
    "\n",
    "    # convertir les vecs à considérer en une liste, puis en un tableau numpy\n",
    "    vecs_to_consider_arr = np.array(vecs_to_consider_l)\n",
    "\n",
    "    # appeler les voisins les plus proches sur la liste réduite des vecteurs candidats\n",
    "    nearest_neighbor_idx_l = nearest_neighbor(v, vecs_to_consider_arr, k=k)\n",
    "\n",
    "    # Utiliser la liste d'index du plus proche voisin comme indices dans les ids à considérer\n",
    "    # créer une liste des voisins les plus proches par les identifiants des documents\n",
    "    nearest_neighbor_ids = [ids_to_consider_l[idx]\n",
    "                            for idx in nearest_neighbor_idx_l]\n",
    "\n",
    "    return nearest_neighbor_ids\n"
   ]
  },
  {
   "cell_type": "code",
   "execution_count": 91,
   "metadata": {
    "id": "UtTjmLKlsoRe"
   },
   "outputs": [],
   "source": [
    "#document_vecs, ind2Tweet\n",
    "doc_id = 0\n",
    "doc_to_search = all_tweets[doc_id]\n",
    "vec_to_search = document_vecs[doc_id]"
   ]
  },
  {
   "cell_type": "code",
   "execution_count": 92,
   "metadata": {
    "id": "nPtzTeYXsoRf",
    "outputId": "36b6b48b-e4e1-48c2-ab5d-ff67bc5b9b59"
   },
   "outputs": [
    {
     "name": "stdout",
     "output_type": "stream",
     "text": [
      "suppréssion du doc_id 0 du vecteur d'entrée de new_ids_to_search\n",
      "suppréssion du doc_id 0 du vecteur d'entrée de new_ids_to_search\n",
      "suppréssion du doc_id 0 du vecteur d'entrée de new_ids_to_search\n",
      "suppréssion du doc_id 0 du vecteur d'entrée de new_ids_to_search\n",
      "suppréssion du doc_id 0 du vecteur d'entrée de new_ids_to_search\n",
      "Une réflexion rapide 77 vecs\n"
     ]
    }
   ],
   "source": [
    "# Sample\n",
    "nearest_neighbor_ids = approximate_knn(\n",
    "    doc_id, vec_to_search, planes_l, k=3, num_universes_to_use=5)"
   ]
  },
  {
   "cell_type": "code",
   "execution_count": 93,
   "metadata": {
    "id": "TIny-t8SsoRf",
    "outputId": "1d6f352c-12f0-4591-c153-0d98d2f092f4"
   },
   "outputs": [
    {
     "name": "stdout",
     "output_type": "stream",
     "text": [
      "Plus proche voisin pour le document 0\n",
      "Contenue du document: #FollowFriday @France_Inte @PKuchly57 @Milipol_Paris for being top engaged members in my community this week :)\n",
      "\n",
      "Plus proche voisin au document id :  2140\n",
      "Contenue du document: @PopsRamjet come one, every now and then is not so bad :)\n",
      "Plus proche voisin au document id :  701\n",
      "Contenue du document: With the top cutie of Bohol :) https://t.co/Jh7F6U46UB\n",
      "Plus proche voisin au document id :  51\n",
      "Contenue du document: #FollowFriday @France_Espana @reglisse_menthe @CCI_inter for being top engaged members in my community this week :)\n"
     ]
    }
   ],
   "source": [
    "print(f\"Plus proche voisin pour le document {doc_id}\")\n",
    "print(f\"Contenue du document: {doc_to_search}\")\n",
    "print(\"\")\n",
    "\n",
    "for neighbor_id in nearest_neighbor_ids:\n",
    "    print(f\"Plus proche voisin au document id :  {neighbor_id}\")\n",
    "    print(f\"Contenue du document: {all_tweets[neighbor_id]}\")"
   ]
  },
  {
   "cell_type": "markdown",
   "metadata": {
    "id": "gkNawuP7IhQt"
   },
   "source": [
    "# <a name=\"5\">V. Référence </a>\n",
    "\n",
    "- [Coursera Natural Language Processing with Classification and Vector Spaces](https://www.coursera.org/learn/classification-vector-spaces-in-nlp#syllabus)"
   ]
  },
  {
   "cell_type": "code",
   "execution_count": null,
   "metadata": {
    "id": "PDpMuTH8soRf"
   },
   "outputs": [],
   "source": []
  }
 ],
 "metadata": {
  "colab": {
   "collapsed_sections": [
    "czFnmnLAsoQj"
   ],
   "name": "Modèle spatiaux vectoriel.ipynb",
   "provenance": [],
   "toc_visible": true
  },
  "kernelspec": {
   "display_name": "Python 3",
   "language": "python",
   "name": "python3"
  },
  "language_info": {
   "codemirror_mode": {
    "name": "ipython",
    "version": 3
   },
   "file_extension": ".py",
   "mimetype": "text/x-python",
   "name": "python",
   "nbconvert_exporter": "python",
   "pygments_lexer": "ipython3",
   "version": "3.7.1"
  }
 },
 "nbformat": 4,
 "nbformat_minor": 1
}
